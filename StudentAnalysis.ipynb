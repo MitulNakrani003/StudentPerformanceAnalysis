{
 "cells": [
  {
   "cell_type": "markdown",
   "metadata": {},
   "source": [
    "# Student's Performance Dataset\n",
    "\n",
    "# Submitted by: Mitul Nakrani"
   ]
  },
  {
   "cell_type": "markdown",
   "metadata": {},
   "source": [
    "## Importing required libraries"
   ]
  },
  {
   "cell_type": "code",
   "execution_count": 372,
   "metadata": {},
   "outputs": [],
   "source": [
    "%matplotlib inline\n",
    "\n",
    "import numpy as np\n",
    "import pandas as pd\n",
    "import matplotlib.pyplot as plt\n",
    "import seaborn as sns\n",
    "from collections import Counter\n",
    "from sklearn import datasets, metrics, neighbors\n",
    "from sklearn.preprocessing import StandardScaler, LabelEncoder\n",
    "from sklearn.model_selection import train_test_split, cross_val_score\n",
    "from sklearn.metrics import *\n",
    "from sklearn.linear_model import LinearRegression\n",
    "from sklearn.preprocessing import PolynomialFeatures\n",
    "from sklearn.tree import DecisionTreeClassifier, plot_tree, DecisionTreeRegressor\n",
    "from sklearn.model_selection import GridSearchCV\n",
    "from sklearn.svm import SVC, SVR\n",
    "from sklearn.naive_bayes import MultinomialNB, GaussianNB, BernoulliNB\n",
    "from sklearn.feature_extraction.text import CountVectorizer\n",
    "from sklearn.linear_model import LogisticRegression"
   ]
  },
  {
   "cell_type": "markdown",
   "metadata": {},
   "source": [
    "## Load the Dataset and view details"
   ]
  },
  {
   "cell_type": "code",
   "execution_count": 373,
   "metadata": {},
   "outputs": [
    {
     "data": {
      "text/html": [
       "<div>\n",
       "<style scoped>\n",
       "    .dataframe tbody tr th:only-of-type {\n",
       "        vertical-align: middle;\n",
       "    }\n",
       "\n",
       "    .dataframe tbody tr th {\n",
       "        vertical-align: top;\n",
       "    }\n",
       "\n",
       "    .dataframe thead th {\n",
       "        text-align: right;\n",
       "    }\n",
       "</style>\n",
       "<table border=\"1\" class=\"dataframe\">\n",
       "  <thead>\n",
       "    <tr style=\"text-align: right;\">\n",
       "      <th></th>\n",
       "      <th>school</th>\n",
       "      <th>sex</th>\n",
       "      <th>age</th>\n",
       "      <th>address</th>\n",
       "      <th>famsize</th>\n",
       "      <th>Pstatus</th>\n",
       "      <th>Medu</th>\n",
       "      <th>Fedu</th>\n",
       "      <th>Mjob</th>\n",
       "      <th>Fjob</th>\n",
       "      <th>...</th>\n",
       "      <th>famrel</th>\n",
       "      <th>freetime</th>\n",
       "      <th>goout</th>\n",
       "      <th>Dalc</th>\n",
       "      <th>Walc</th>\n",
       "      <th>health</th>\n",
       "      <th>absences</th>\n",
       "      <th>G1</th>\n",
       "      <th>G2</th>\n",
       "      <th>G3</th>\n",
       "    </tr>\n",
       "  </thead>\n",
       "  <tbody>\n",
       "    <tr>\n",
       "      <td>0</td>\n",
       "      <td>GP</td>\n",
       "      <td>F</td>\n",
       "      <td>18</td>\n",
       "      <td>U</td>\n",
       "      <td>GT3</td>\n",
       "      <td>A</td>\n",
       "      <td>4</td>\n",
       "      <td>4</td>\n",
       "      <td>at_home</td>\n",
       "      <td>teacher</td>\n",
       "      <td>...</td>\n",
       "      <td>4</td>\n",
       "      <td>3</td>\n",
       "      <td>4</td>\n",
       "      <td>1</td>\n",
       "      <td>1</td>\n",
       "      <td>3</td>\n",
       "      <td>6</td>\n",
       "      <td>5</td>\n",
       "      <td>6</td>\n",
       "      <td>6</td>\n",
       "    </tr>\n",
       "    <tr>\n",
       "      <td>1</td>\n",
       "      <td>GP</td>\n",
       "      <td>F</td>\n",
       "      <td>17</td>\n",
       "      <td>U</td>\n",
       "      <td>GT3</td>\n",
       "      <td>T</td>\n",
       "      <td>1</td>\n",
       "      <td>1</td>\n",
       "      <td>at_home</td>\n",
       "      <td>other</td>\n",
       "      <td>...</td>\n",
       "      <td>5</td>\n",
       "      <td>3</td>\n",
       "      <td>3</td>\n",
       "      <td>1</td>\n",
       "      <td>1</td>\n",
       "      <td>3</td>\n",
       "      <td>4</td>\n",
       "      <td>5</td>\n",
       "      <td>5</td>\n",
       "      <td>6</td>\n",
       "    </tr>\n",
       "    <tr>\n",
       "      <td>2</td>\n",
       "      <td>GP</td>\n",
       "      <td>F</td>\n",
       "      <td>15</td>\n",
       "      <td>U</td>\n",
       "      <td>LE3</td>\n",
       "      <td>T</td>\n",
       "      <td>1</td>\n",
       "      <td>1</td>\n",
       "      <td>at_home</td>\n",
       "      <td>other</td>\n",
       "      <td>...</td>\n",
       "      <td>4</td>\n",
       "      <td>3</td>\n",
       "      <td>2</td>\n",
       "      <td>2</td>\n",
       "      <td>3</td>\n",
       "      <td>3</td>\n",
       "      <td>10</td>\n",
       "      <td>7</td>\n",
       "      <td>8</td>\n",
       "      <td>10</td>\n",
       "    </tr>\n",
       "    <tr>\n",
       "      <td>3</td>\n",
       "      <td>GP</td>\n",
       "      <td>F</td>\n",
       "      <td>15</td>\n",
       "      <td>U</td>\n",
       "      <td>GT3</td>\n",
       "      <td>T</td>\n",
       "      <td>4</td>\n",
       "      <td>2</td>\n",
       "      <td>health</td>\n",
       "      <td>services</td>\n",
       "      <td>...</td>\n",
       "      <td>3</td>\n",
       "      <td>2</td>\n",
       "      <td>2</td>\n",
       "      <td>1</td>\n",
       "      <td>1</td>\n",
       "      <td>5</td>\n",
       "      <td>2</td>\n",
       "      <td>15</td>\n",
       "      <td>14</td>\n",
       "      <td>15</td>\n",
       "    </tr>\n",
       "    <tr>\n",
       "      <td>4</td>\n",
       "      <td>GP</td>\n",
       "      <td>F</td>\n",
       "      <td>16</td>\n",
       "      <td>U</td>\n",
       "      <td>GT3</td>\n",
       "      <td>T</td>\n",
       "      <td>3</td>\n",
       "      <td>3</td>\n",
       "      <td>other</td>\n",
       "      <td>other</td>\n",
       "      <td>...</td>\n",
       "      <td>4</td>\n",
       "      <td>3</td>\n",
       "      <td>2</td>\n",
       "      <td>1</td>\n",
       "      <td>2</td>\n",
       "      <td>5</td>\n",
       "      <td>4</td>\n",
       "      <td>6</td>\n",
       "      <td>10</td>\n",
       "      <td>10</td>\n",
       "    </tr>\n",
       "    <tr>\n",
       "      <td>...</td>\n",
       "      <td>...</td>\n",
       "      <td>...</td>\n",
       "      <td>...</td>\n",
       "      <td>...</td>\n",
       "      <td>...</td>\n",
       "      <td>...</td>\n",
       "      <td>...</td>\n",
       "      <td>...</td>\n",
       "      <td>...</td>\n",
       "      <td>...</td>\n",
       "      <td>...</td>\n",
       "      <td>...</td>\n",
       "      <td>...</td>\n",
       "      <td>...</td>\n",
       "      <td>...</td>\n",
       "      <td>...</td>\n",
       "      <td>...</td>\n",
       "      <td>...</td>\n",
       "      <td>...</td>\n",
       "      <td>...</td>\n",
       "      <td>...</td>\n",
       "    </tr>\n",
       "    <tr>\n",
       "      <td>390</td>\n",
       "      <td>MS</td>\n",
       "      <td>M</td>\n",
       "      <td>20</td>\n",
       "      <td>U</td>\n",
       "      <td>LE3</td>\n",
       "      <td>A</td>\n",
       "      <td>2</td>\n",
       "      <td>2</td>\n",
       "      <td>services</td>\n",
       "      <td>services</td>\n",
       "      <td>...</td>\n",
       "      <td>5</td>\n",
       "      <td>5</td>\n",
       "      <td>4</td>\n",
       "      <td>4</td>\n",
       "      <td>5</td>\n",
       "      <td>4</td>\n",
       "      <td>11</td>\n",
       "      <td>9</td>\n",
       "      <td>9</td>\n",
       "      <td>9</td>\n",
       "    </tr>\n",
       "    <tr>\n",
       "      <td>391</td>\n",
       "      <td>MS</td>\n",
       "      <td>M</td>\n",
       "      <td>17</td>\n",
       "      <td>U</td>\n",
       "      <td>LE3</td>\n",
       "      <td>T</td>\n",
       "      <td>3</td>\n",
       "      <td>1</td>\n",
       "      <td>services</td>\n",
       "      <td>services</td>\n",
       "      <td>...</td>\n",
       "      <td>2</td>\n",
       "      <td>4</td>\n",
       "      <td>5</td>\n",
       "      <td>3</td>\n",
       "      <td>4</td>\n",
       "      <td>2</td>\n",
       "      <td>3</td>\n",
       "      <td>14</td>\n",
       "      <td>16</td>\n",
       "      <td>16</td>\n",
       "    </tr>\n",
       "    <tr>\n",
       "      <td>392</td>\n",
       "      <td>MS</td>\n",
       "      <td>M</td>\n",
       "      <td>21</td>\n",
       "      <td>R</td>\n",
       "      <td>GT3</td>\n",
       "      <td>T</td>\n",
       "      <td>1</td>\n",
       "      <td>1</td>\n",
       "      <td>other</td>\n",
       "      <td>other</td>\n",
       "      <td>...</td>\n",
       "      <td>5</td>\n",
       "      <td>5</td>\n",
       "      <td>3</td>\n",
       "      <td>3</td>\n",
       "      <td>3</td>\n",
       "      <td>3</td>\n",
       "      <td>3</td>\n",
       "      <td>10</td>\n",
       "      <td>8</td>\n",
       "      <td>7</td>\n",
       "    </tr>\n",
       "    <tr>\n",
       "      <td>393</td>\n",
       "      <td>MS</td>\n",
       "      <td>M</td>\n",
       "      <td>18</td>\n",
       "      <td>R</td>\n",
       "      <td>LE3</td>\n",
       "      <td>T</td>\n",
       "      <td>3</td>\n",
       "      <td>2</td>\n",
       "      <td>services</td>\n",
       "      <td>other</td>\n",
       "      <td>...</td>\n",
       "      <td>4</td>\n",
       "      <td>4</td>\n",
       "      <td>1</td>\n",
       "      <td>3</td>\n",
       "      <td>4</td>\n",
       "      <td>5</td>\n",
       "      <td>0</td>\n",
       "      <td>11</td>\n",
       "      <td>12</td>\n",
       "      <td>10</td>\n",
       "    </tr>\n",
       "    <tr>\n",
       "      <td>394</td>\n",
       "      <td>MS</td>\n",
       "      <td>M</td>\n",
       "      <td>19</td>\n",
       "      <td>U</td>\n",
       "      <td>LE3</td>\n",
       "      <td>T</td>\n",
       "      <td>1</td>\n",
       "      <td>1</td>\n",
       "      <td>other</td>\n",
       "      <td>at_home</td>\n",
       "      <td>...</td>\n",
       "      <td>3</td>\n",
       "      <td>2</td>\n",
       "      <td>3</td>\n",
       "      <td>3</td>\n",
       "      <td>3</td>\n",
       "      <td>5</td>\n",
       "      <td>5</td>\n",
       "      <td>8</td>\n",
       "      <td>9</td>\n",
       "      <td>9</td>\n",
       "    </tr>\n",
       "  </tbody>\n",
       "</table>\n",
       "<p>395 rows × 33 columns</p>\n",
       "</div>"
      ],
      "text/plain": [
       "    school sex  age address famsize Pstatus  Medu  Fedu      Mjob      Fjob  \\\n",
       "0       GP   F   18       U     GT3       A     4     4   at_home   teacher   \n",
       "1       GP   F   17       U     GT3       T     1     1   at_home     other   \n",
       "2       GP   F   15       U     LE3       T     1     1   at_home     other   \n",
       "3       GP   F   15       U     GT3       T     4     2    health  services   \n",
       "4       GP   F   16       U     GT3       T     3     3     other     other   \n",
       "..     ...  ..  ...     ...     ...     ...   ...   ...       ...       ...   \n",
       "390     MS   M   20       U     LE3       A     2     2  services  services   \n",
       "391     MS   M   17       U     LE3       T     3     1  services  services   \n",
       "392     MS   M   21       R     GT3       T     1     1     other     other   \n",
       "393     MS   M   18       R     LE3       T     3     2  services     other   \n",
       "394     MS   M   19       U     LE3       T     1     1     other   at_home   \n",
       "\n",
       "     ... famrel freetime  goout  Dalc  Walc health absences  G1  G2  G3  \n",
       "0    ...      4        3      4     1     1      3        6   5   6   6  \n",
       "1    ...      5        3      3     1     1      3        4   5   5   6  \n",
       "2    ...      4        3      2     2     3      3       10   7   8  10  \n",
       "3    ...      3        2      2     1     1      5        2  15  14  15  \n",
       "4    ...      4        3      2     1     2      5        4   6  10  10  \n",
       "..   ...    ...      ...    ...   ...   ...    ...      ...  ..  ..  ..  \n",
       "390  ...      5        5      4     4     5      4       11   9   9   9  \n",
       "391  ...      2        4      5     3     4      2        3  14  16  16  \n",
       "392  ...      5        5      3     3     3      3        3  10   8   7  \n",
       "393  ...      4        4      1     3     4      5        0  11  12  10  \n",
       "394  ...      3        2      3     3     3      5        5   8   9   9  \n",
       "\n",
       "[395 rows x 33 columns]"
      ]
     },
     "execution_count": 373,
     "metadata": {},
     "output_type": "execute_result"
    }
   ],
   "source": [
    "math = pd.read_csv('student-mat.csv')\n",
    "math"
   ]
  },
  {
   "cell_type": "code",
   "execution_count": 374,
   "metadata": {},
   "outputs": [
    {
     "data": {
      "text/html": [
       "<div>\n",
       "<style scoped>\n",
       "    .dataframe tbody tr th:only-of-type {\n",
       "        vertical-align: middle;\n",
       "    }\n",
       "\n",
       "    .dataframe tbody tr th {\n",
       "        vertical-align: top;\n",
       "    }\n",
       "\n",
       "    .dataframe thead th {\n",
       "        text-align: right;\n",
       "    }\n",
       "</style>\n",
       "<table border=\"1\" class=\"dataframe\">\n",
       "  <thead>\n",
       "    <tr style=\"text-align: right;\">\n",
       "      <th></th>\n",
       "      <th>school</th>\n",
       "      <th>sex</th>\n",
       "      <th>age</th>\n",
       "      <th>address</th>\n",
       "      <th>famsize</th>\n",
       "      <th>Pstatus</th>\n",
       "      <th>Medu</th>\n",
       "      <th>Fedu</th>\n",
       "      <th>Mjob</th>\n",
       "      <th>Fjob</th>\n",
       "      <th>...</th>\n",
       "      <th>famrel</th>\n",
       "      <th>freetime</th>\n",
       "      <th>goout</th>\n",
       "      <th>Dalc</th>\n",
       "      <th>Walc</th>\n",
       "      <th>health</th>\n",
       "      <th>absences</th>\n",
       "      <th>G1</th>\n",
       "      <th>G2</th>\n",
       "      <th>G3</th>\n",
       "    </tr>\n",
       "  </thead>\n",
       "  <tbody>\n",
       "    <tr>\n",
       "      <td>0</td>\n",
       "      <td>GP</td>\n",
       "      <td>F</td>\n",
       "      <td>18</td>\n",
       "      <td>U</td>\n",
       "      <td>GT3</td>\n",
       "      <td>A</td>\n",
       "      <td>4</td>\n",
       "      <td>4</td>\n",
       "      <td>at_home</td>\n",
       "      <td>teacher</td>\n",
       "      <td>...</td>\n",
       "      <td>4</td>\n",
       "      <td>3</td>\n",
       "      <td>4</td>\n",
       "      <td>1</td>\n",
       "      <td>1</td>\n",
       "      <td>3</td>\n",
       "      <td>4</td>\n",
       "      <td>0</td>\n",
       "      <td>11</td>\n",
       "      <td>11</td>\n",
       "    </tr>\n",
       "    <tr>\n",
       "      <td>1</td>\n",
       "      <td>GP</td>\n",
       "      <td>F</td>\n",
       "      <td>17</td>\n",
       "      <td>U</td>\n",
       "      <td>GT3</td>\n",
       "      <td>T</td>\n",
       "      <td>1</td>\n",
       "      <td>1</td>\n",
       "      <td>at_home</td>\n",
       "      <td>other</td>\n",
       "      <td>...</td>\n",
       "      <td>5</td>\n",
       "      <td>3</td>\n",
       "      <td>3</td>\n",
       "      <td>1</td>\n",
       "      <td>1</td>\n",
       "      <td>3</td>\n",
       "      <td>2</td>\n",
       "      <td>9</td>\n",
       "      <td>11</td>\n",
       "      <td>11</td>\n",
       "    </tr>\n",
       "    <tr>\n",
       "      <td>2</td>\n",
       "      <td>GP</td>\n",
       "      <td>F</td>\n",
       "      <td>15</td>\n",
       "      <td>U</td>\n",
       "      <td>LE3</td>\n",
       "      <td>T</td>\n",
       "      <td>1</td>\n",
       "      <td>1</td>\n",
       "      <td>at_home</td>\n",
       "      <td>other</td>\n",
       "      <td>...</td>\n",
       "      <td>4</td>\n",
       "      <td>3</td>\n",
       "      <td>2</td>\n",
       "      <td>2</td>\n",
       "      <td>3</td>\n",
       "      <td>3</td>\n",
       "      <td>6</td>\n",
       "      <td>12</td>\n",
       "      <td>13</td>\n",
       "      <td>12</td>\n",
       "    </tr>\n",
       "    <tr>\n",
       "      <td>3</td>\n",
       "      <td>GP</td>\n",
       "      <td>F</td>\n",
       "      <td>15</td>\n",
       "      <td>U</td>\n",
       "      <td>GT3</td>\n",
       "      <td>T</td>\n",
       "      <td>4</td>\n",
       "      <td>2</td>\n",
       "      <td>health</td>\n",
       "      <td>services</td>\n",
       "      <td>...</td>\n",
       "      <td>3</td>\n",
       "      <td>2</td>\n",
       "      <td>2</td>\n",
       "      <td>1</td>\n",
       "      <td>1</td>\n",
       "      <td>5</td>\n",
       "      <td>0</td>\n",
       "      <td>14</td>\n",
       "      <td>14</td>\n",
       "      <td>14</td>\n",
       "    </tr>\n",
       "    <tr>\n",
       "      <td>4</td>\n",
       "      <td>GP</td>\n",
       "      <td>F</td>\n",
       "      <td>16</td>\n",
       "      <td>U</td>\n",
       "      <td>GT3</td>\n",
       "      <td>T</td>\n",
       "      <td>3</td>\n",
       "      <td>3</td>\n",
       "      <td>other</td>\n",
       "      <td>other</td>\n",
       "      <td>...</td>\n",
       "      <td>4</td>\n",
       "      <td>3</td>\n",
       "      <td>2</td>\n",
       "      <td>1</td>\n",
       "      <td>2</td>\n",
       "      <td>5</td>\n",
       "      <td>0</td>\n",
       "      <td>11</td>\n",
       "      <td>13</td>\n",
       "      <td>13</td>\n",
       "    </tr>\n",
       "    <tr>\n",
       "      <td>...</td>\n",
       "      <td>...</td>\n",
       "      <td>...</td>\n",
       "      <td>...</td>\n",
       "      <td>...</td>\n",
       "      <td>...</td>\n",
       "      <td>...</td>\n",
       "      <td>...</td>\n",
       "      <td>...</td>\n",
       "      <td>...</td>\n",
       "      <td>...</td>\n",
       "      <td>...</td>\n",
       "      <td>...</td>\n",
       "      <td>...</td>\n",
       "      <td>...</td>\n",
       "      <td>...</td>\n",
       "      <td>...</td>\n",
       "      <td>...</td>\n",
       "      <td>...</td>\n",
       "      <td>...</td>\n",
       "      <td>...</td>\n",
       "      <td>...</td>\n",
       "    </tr>\n",
       "    <tr>\n",
       "      <td>644</td>\n",
       "      <td>MS</td>\n",
       "      <td>F</td>\n",
       "      <td>19</td>\n",
       "      <td>R</td>\n",
       "      <td>GT3</td>\n",
       "      <td>T</td>\n",
       "      <td>2</td>\n",
       "      <td>3</td>\n",
       "      <td>services</td>\n",
       "      <td>other</td>\n",
       "      <td>...</td>\n",
       "      <td>5</td>\n",
       "      <td>4</td>\n",
       "      <td>2</td>\n",
       "      <td>1</td>\n",
       "      <td>2</td>\n",
       "      <td>5</td>\n",
       "      <td>4</td>\n",
       "      <td>10</td>\n",
       "      <td>11</td>\n",
       "      <td>10</td>\n",
       "    </tr>\n",
       "    <tr>\n",
       "      <td>645</td>\n",
       "      <td>MS</td>\n",
       "      <td>F</td>\n",
       "      <td>18</td>\n",
       "      <td>U</td>\n",
       "      <td>LE3</td>\n",
       "      <td>T</td>\n",
       "      <td>3</td>\n",
       "      <td>1</td>\n",
       "      <td>teacher</td>\n",
       "      <td>services</td>\n",
       "      <td>...</td>\n",
       "      <td>4</td>\n",
       "      <td>3</td>\n",
       "      <td>4</td>\n",
       "      <td>1</td>\n",
       "      <td>1</td>\n",
       "      <td>1</td>\n",
       "      <td>4</td>\n",
       "      <td>15</td>\n",
       "      <td>15</td>\n",
       "      <td>16</td>\n",
       "    </tr>\n",
       "    <tr>\n",
       "      <td>646</td>\n",
       "      <td>MS</td>\n",
       "      <td>F</td>\n",
       "      <td>18</td>\n",
       "      <td>U</td>\n",
       "      <td>GT3</td>\n",
       "      <td>T</td>\n",
       "      <td>1</td>\n",
       "      <td>1</td>\n",
       "      <td>other</td>\n",
       "      <td>other</td>\n",
       "      <td>...</td>\n",
       "      <td>1</td>\n",
       "      <td>1</td>\n",
       "      <td>1</td>\n",
       "      <td>1</td>\n",
       "      <td>1</td>\n",
       "      <td>5</td>\n",
       "      <td>6</td>\n",
       "      <td>11</td>\n",
       "      <td>12</td>\n",
       "      <td>9</td>\n",
       "    </tr>\n",
       "    <tr>\n",
       "      <td>647</td>\n",
       "      <td>MS</td>\n",
       "      <td>M</td>\n",
       "      <td>17</td>\n",
       "      <td>U</td>\n",
       "      <td>LE3</td>\n",
       "      <td>T</td>\n",
       "      <td>3</td>\n",
       "      <td>1</td>\n",
       "      <td>services</td>\n",
       "      <td>services</td>\n",
       "      <td>...</td>\n",
       "      <td>2</td>\n",
       "      <td>4</td>\n",
       "      <td>5</td>\n",
       "      <td>3</td>\n",
       "      <td>4</td>\n",
       "      <td>2</td>\n",
       "      <td>6</td>\n",
       "      <td>10</td>\n",
       "      <td>10</td>\n",
       "      <td>10</td>\n",
       "    </tr>\n",
       "    <tr>\n",
       "      <td>648</td>\n",
       "      <td>MS</td>\n",
       "      <td>M</td>\n",
       "      <td>18</td>\n",
       "      <td>R</td>\n",
       "      <td>LE3</td>\n",
       "      <td>T</td>\n",
       "      <td>3</td>\n",
       "      <td>2</td>\n",
       "      <td>services</td>\n",
       "      <td>other</td>\n",
       "      <td>...</td>\n",
       "      <td>4</td>\n",
       "      <td>4</td>\n",
       "      <td>1</td>\n",
       "      <td>3</td>\n",
       "      <td>4</td>\n",
       "      <td>5</td>\n",
       "      <td>4</td>\n",
       "      <td>10</td>\n",
       "      <td>11</td>\n",
       "      <td>11</td>\n",
       "    </tr>\n",
       "  </tbody>\n",
       "</table>\n",
       "<p>649 rows × 33 columns</p>\n",
       "</div>"
      ],
      "text/plain": [
       "    school sex  age address famsize Pstatus  Medu  Fedu      Mjob      Fjob  \\\n",
       "0       GP   F   18       U     GT3       A     4     4   at_home   teacher   \n",
       "1       GP   F   17       U     GT3       T     1     1   at_home     other   \n",
       "2       GP   F   15       U     LE3       T     1     1   at_home     other   \n",
       "3       GP   F   15       U     GT3       T     4     2    health  services   \n",
       "4       GP   F   16       U     GT3       T     3     3     other     other   \n",
       "..     ...  ..  ...     ...     ...     ...   ...   ...       ...       ...   \n",
       "644     MS   F   19       R     GT3       T     2     3  services     other   \n",
       "645     MS   F   18       U     LE3       T     3     1   teacher  services   \n",
       "646     MS   F   18       U     GT3       T     1     1     other     other   \n",
       "647     MS   M   17       U     LE3       T     3     1  services  services   \n",
       "648     MS   M   18       R     LE3       T     3     2  services     other   \n",
       "\n",
       "     ... famrel freetime  goout  Dalc  Walc health absences  G1  G2  G3  \n",
       "0    ...      4        3      4     1     1      3        4   0  11  11  \n",
       "1    ...      5        3      3     1     1      3        2   9  11  11  \n",
       "2    ...      4        3      2     2     3      3        6  12  13  12  \n",
       "3    ...      3        2      2     1     1      5        0  14  14  14  \n",
       "4    ...      4        3      2     1     2      5        0  11  13  13  \n",
       "..   ...    ...      ...    ...   ...   ...    ...      ...  ..  ..  ..  \n",
       "644  ...      5        4      2     1     2      5        4  10  11  10  \n",
       "645  ...      4        3      4     1     1      1        4  15  15  16  \n",
       "646  ...      1        1      1     1     1      5        6  11  12   9  \n",
       "647  ...      2        4      5     3     4      2        6  10  10  10  \n",
       "648  ...      4        4      1     3     4      5        4  10  11  11  \n",
       "\n",
       "[649 rows x 33 columns]"
      ]
     },
     "execution_count": 374,
     "metadata": {},
     "output_type": "execute_result"
    }
   ],
   "source": [
    "port = pd.read_csv('student-por.csv')\n",
    "port"
   ]
  },
  {
   "cell_type": "code",
   "execution_count": 375,
   "metadata": {},
   "outputs": [
    {
     "name": "stdout",
     "output_type": "stream",
     "text": [
      "Attribute\tUnique Values\n",
      "\n",
      "school     : {'GP', 'MS'}\n",
      "sex        : {'F', 'M'}\n",
      "age        : {15, 16, 17, 18, 19, 20, 21, 22}\n",
      "address    : {'U', 'R'}\n",
      "famsize    : {'GT3', 'LE3'}\n",
      "Pstatus    : {'T', 'A'}\n",
      "Medu       : {0, 1, 2, 3, 4}\n",
      "Fedu       : {0, 1, 2, 3, 4}\n",
      "Mjob       : {'teacher', 'at_home', 'other', 'services', 'health'}\n",
      "Fjob       : {'teacher', 'at_home', 'other', 'services', 'health'}\n",
      "reason     : {'other', 'reputation', 'course', 'home'}\n",
      "guardian   : {'mother', 'other', 'father'}\n",
      "traveltime : {1, 2, 3, 4}\n",
      "studytime  : {1, 2, 3, 4}\n",
      "failures   : {0, 1, 2, 3}\n",
      "schoolsup  : {'yes', 'no'}\n",
      "famsup     : {'no', 'yes'}\n",
      "paid       : {'no', 'yes'}\n",
      "activities : {'no', 'yes'}\n",
      "nursery    : {'yes', 'no'}\n",
      "higher     : {'yes', 'no'}\n",
      "internet   : {'no', 'yes'}\n",
      "romantic   : {'no', 'yes'}\n",
      "famrel     : {1, 2, 3, 4, 5}\n",
      "freetime   : {1, 2, 3, 4, 5}\n",
      "goout      : {1, 2, 3, 4, 5}\n",
      "Dalc       : {1, 2, 3, 4, 5}\n",
      "Walc       : {1, 2, 3, 4, 5}\n",
      "health     : {1, 2, 3, 4, 5}\n",
      "absences   : {0, 1, 2, 3, 4, 5, 6, 7, 8, 9, 10, 11, 12, 13, 14, 15, 16, 17, 18, 19, 20, 21, 22, 23, 24, 25, 26, 28, 30, 38, 40, 54, 56, 75}\n",
      "G1         : {3, 4, 5, 6, 7, 8, 9, 10, 11, 12, 13, 14, 15, 16, 17, 18, 19}\n",
      "G2         : {0, 4, 5, 6, 7, 8, 9, 10, 11, 12, 13, 14, 15, 16, 17, 18, 19}\n",
      "G3         : {0, 4, 5, 6, 7, 8, 9, 10, 11, 12, 13, 14, 15, 16, 17, 18, 19, 20}\n"
     ]
    }
   ],
   "source": [
    "#Attributes in of Math Table and their unique values\n",
    "print(\"Attribute\\tUnique Values\\n\")\n",
    "for i in math.columns:\n",
    "    print(f\"{i.ljust(11)}: {set(math[i])}\")"
   ]
  },
  {
   "cell_type": "code",
   "execution_count": 376,
   "metadata": {},
   "outputs": [
    {
     "name": "stdout",
     "output_type": "stream",
     "text": [
      "Attribute\tUnique Values\n",
      "\n",
      "school     : {'GP', 'MS'}\n",
      "sex        : {'F', 'M'}\n",
      "age        : {15, 16, 17, 18, 19, 20, 21, 22}\n",
      "address    : {'U', 'R'}\n",
      "famsize    : {'GT3', 'LE3'}\n",
      "Pstatus    : {'T', 'A'}\n",
      "Medu       : {0, 1, 2, 3, 4}\n",
      "Fedu       : {0, 1, 2, 3, 4}\n",
      "Mjob       : {'teacher', 'at_home', 'other', 'services', 'health'}\n",
      "Fjob       : {'teacher', 'at_home', 'other', 'services', 'health'}\n",
      "reason     : {'other', 'reputation', 'course', 'home'}\n",
      "guardian   : {'mother', 'other', 'father'}\n",
      "traveltime : {1, 2, 3, 4}\n",
      "studytime  : {1, 2, 3, 4}\n",
      "failures   : {0, 1, 2, 3}\n",
      "schoolsup  : {'yes', 'no'}\n",
      "famsup     : {'no', 'yes'}\n",
      "paid       : {'no', 'yes'}\n",
      "activities : {'no', 'yes'}\n",
      "nursery    : {'yes', 'no'}\n",
      "higher     : {'yes', 'no'}\n",
      "internet   : {'no', 'yes'}\n",
      "romantic   : {'no', 'yes'}\n",
      "famrel     : {1, 2, 3, 4, 5}\n",
      "freetime   : {1, 2, 3, 4, 5}\n",
      "goout      : {1, 2, 3, 4, 5}\n",
      "Dalc       : {1, 2, 3, 4, 5}\n",
      "Walc       : {1, 2, 3, 4, 5}\n",
      "health     : {1, 2, 3, 4, 5}\n",
      "absences   : {0, 1, 2, 3, 4, 5, 6, 7, 8, 9, 10, 11, 12, 13, 14, 15, 16, 18, 21, 22, 24, 26, 30, 32}\n",
      "G1         : {0, 4, 5, 6, 7, 8, 9, 10, 11, 12, 13, 14, 15, 16, 17, 18, 19}\n",
      "G2         : {0, 5, 6, 7, 8, 9, 10, 11, 12, 13, 14, 15, 16, 17, 18, 19}\n",
      "G3         : {0, 1, 5, 6, 7, 8, 9, 10, 11, 12, 13, 14, 15, 16, 17, 18, 19}\n"
     ]
    }
   ],
   "source": [
    "#Attributes in of Math Table and their unique values\n",
    "print(\"Attribute\\tUnique Values\\n\")\n",
    "for i in port.columns:\n",
    "    print(f\"{i.ljust(11)}: {set(port[i])}\")"
   ]
  },
  {
   "cell_type": "code",
   "execution_count": 377,
   "metadata": {},
   "outputs": [
    {
     "name": "stdout",
     "output_type": "stream",
     "text": [
      "<class 'pandas.core.frame.DataFrame'>\n",
      "RangeIndex: 395 entries, 0 to 394\n",
      "Data columns (total 33 columns):\n",
      "school        395 non-null object\n",
      "sex           395 non-null object\n",
      "age           395 non-null int64\n",
      "address       395 non-null object\n",
      "famsize       395 non-null object\n",
      "Pstatus       395 non-null object\n",
      "Medu          395 non-null int64\n",
      "Fedu          395 non-null int64\n",
      "Mjob          395 non-null object\n",
      "Fjob          395 non-null object\n",
      "reason        395 non-null object\n",
      "guardian      395 non-null object\n",
      "traveltime    395 non-null int64\n",
      "studytime     395 non-null int64\n",
      "failures      395 non-null int64\n",
      "schoolsup     395 non-null object\n",
      "famsup        395 non-null object\n",
      "paid          395 non-null object\n",
      "activities    395 non-null object\n",
      "nursery       395 non-null object\n",
      "higher        395 non-null object\n",
      "internet      395 non-null object\n",
      "romantic      395 non-null object\n",
      "famrel        395 non-null int64\n",
      "freetime      395 non-null int64\n",
      "goout         395 non-null int64\n",
      "Dalc          395 non-null int64\n",
      "Walc          395 non-null int64\n",
      "health        395 non-null int64\n",
      "absences      395 non-null int64\n",
      "G1            395 non-null int64\n",
      "G2            395 non-null int64\n",
      "G3            395 non-null int64\n",
      "dtypes: int64(16), object(17)\n",
      "memory usage: 102.0+ KB\n"
     ]
    }
   ],
   "source": [
    "math.info()"
   ]
  },
  {
   "cell_type": "code",
   "execution_count": 378,
   "metadata": {},
   "outputs": [
    {
     "name": "stdout",
     "output_type": "stream",
     "text": [
      "<class 'pandas.core.frame.DataFrame'>\n",
      "RangeIndex: 649 entries, 0 to 648\n",
      "Data columns (total 33 columns):\n",
      "school        649 non-null object\n",
      "sex           649 non-null object\n",
      "age           649 non-null int64\n",
      "address       649 non-null object\n",
      "famsize       649 non-null object\n",
      "Pstatus       649 non-null object\n",
      "Medu          649 non-null int64\n",
      "Fedu          649 non-null int64\n",
      "Mjob          649 non-null object\n",
      "Fjob          649 non-null object\n",
      "reason        649 non-null object\n",
      "guardian      649 non-null object\n",
      "traveltime    649 non-null int64\n",
      "studytime     649 non-null int64\n",
      "failures      649 non-null int64\n",
      "schoolsup     649 non-null object\n",
      "famsup        649 non-null object\n",
      "paid          649 non-null object\n",
      "activities    649 non-null object\n",
      "nursery       649 non-null object\n",
      "higher        649 non-null object\n",
      "internet      649 non-null object\n",
      "romantic      649 non-null object\n",
      "famrel        649 non-null int64\n",
      "freetime      649 non-null int64\n",
      "goout         649 non-null int64\n",
      "Dalc          649 non-null int64\n",
      "Walc          649 non-null int64\n",
      "health        649 non-null int64\n",
      "absences      649 non-null int64\n",
      "G1            649 non-null int64\n",
      "G2            649 non-null int64\n",
      "G3            649 non-null int64\n",
      "dtypes: int64(16), object(17)\n",
      "memory usage: 167.4+ KB\n"
     ]
    }
   ],
   "source": [
    "port.info()"
   ]
  },
  {
   "cell_type": "markdown",
   "metadata": {},
   "source": [
    "## Data Preparation"
   ]
  },
  {
   "cell_type": "markdown",
   "metadata": {},
   "source": [
    "### Encoding of Object Type Attributes"
   ]
  },
  {
   "cell_type": "code",
   "execution_count": 379,
   "metadata": {},
   "outputs": [],
   "source": [
    "#Using label encoder for conversion of object type attributes\n",
    "l_encoder = LabelEncoder()\n",
    "encoded_math = math.copy()\n",
    "encoded_port = port.copy()\n",
    "replace_dict = {'yes': 1, 'no':0, 'other': 0, 'at_home': 1, 'services': 2, 'health': 3, 'teacher': 4}"
   ]
  },
  {
   "cell_type": "code",
   "execution_count": 380,
   "metadata": {},
   "outputs": [
    {
     "name": "stdout",
     "output_type": "stream",
     "text": [
      "Object type attributes before encoding:\n",
      "\n",
      "school     :{'GP', 'MS'}\n",
      "sex        :{'F', 'M'}\n",
      "address    :{'U', 'R'}\n",
      "famsize    :{'GT3', 'LE3'}\n",
      "Pstatus    :{'T', 'A'}\n",
      "Mjob       :{'teacher', 'at_home', 'other', 'services', 'health'}\n",
      "Fjob       :{'teacher', 'at_home', 'other', 'services', 'health'}\n",
      "reason     :{'other', 'reputation', 'course', 'home'}\n",
      "guardian   :{'mother', 'other', 'father'}\n",
      "schoolsup  :{'yes', 'no'}\n",
      "famsup     :{'no', 'yes'}\n",
      "paid       :{'no', 'yes'}\n",
      "activities :{'no', 'yes'}\n",
      "nursery    :{'yes', 'no'}\n",
      "higher     :{'yes', 'no'}\n",
      "internet   :{'no', 'yes'}\n",
      "romantic   :{'no', 'yes'}\n",
      "\n",
      "\n",
      "Object type attributes after encoding:\n",
      "\n",
      "school     :{0, 1}\n",
      "sex        :{0, 1}\n",
      "address    :{0, 1}\n",
      "famsize    :{0, 1}\n",
      "Pstatus    :{0, 1}\n",
      "reason     :{0, 1, 2, 3}\n",
      "guardian   :{0, 1, 2}\n"
     ]
    }
   ],
   "source": [
    "print(\"Object type attributes before encoding:\\n\")\n",
    "for attr in encoded_math.head():\n",
    "    if encoded_math[attr].dtype == object:\n",
    "        print(f\"{attr.ljust(11)}:{set(encoded_math[attr])}\")\n",
    "\n",
    "#Manually encoding for uniformity across attributes\n",
    "encoded_math.iloc[:, 15:23] = encoded_math.iloc[:, 15:23].replace(replace_dict).astype('int')\n",
    "encoded_math.iloc[:, 8:10] = encoded_math.iloc[:, 8:10].replace(replace_dict).astype('int')\n",
    "        \n",
    "print(\"\\n\\nObject type attributes after encoding:\\n\")\n",
    "for attr in encoded_math.head():\n",
    "    if encoded_math[attr].dtype == object:\n",
    "        encoded_math[attr] = l_encoder.fit_transform(encoded_math[attr])\n",
    "        print(f\"{attr.ljust(11)}:{set(encoded_math[attr])}\")"
   ]
  },
  {
   "cell_type": "code",
   "execution_count": 381,
   "metadata": {},
   "outputs": [
    {
     "name": "stdout",
     "output_type": "stream",
     "text": [
      "<class 'pandas.core.frame.DataFrame'>\n",
      "RangeIndex: 395 entries, 0 to 394\n",
      "Data columns (total 33 columns):\n",
      "school        395 non-null int64\n",
      "sex           395 non-null int64\n",
      "age           395 non-null int64\n",
      "address       395 non-null int64\n",
      "famsize       395 non-null int64\n",
      "Pstatus       395 non-null int64\n",
      "Medu          395 non-null int64\n",
      "Fedu          395 non-null int64\n",
      "Mjob          395 non-null int64\n",
      "Fjob          395 non-null int64\n",
      "reason        395 non-null int64\n",
      "guardian      395 non-null int64\n",
      "traveltime    395 non-null int64\n",
      "studytime     395 non-null int64\n",
      "failures      395 non-null int64\n",
      "schoolsup     395 non-null int64\n",
      "famsup        395 non-null int64\n",
      "paid          395 non-null int64\n",
      "activities    395 non-null int64\n",
      "nursery       395 non-null int64\n",
      "higher        395 non-null int64\n",
      "internet      395 non-null int64\n",
      "romantic      395 non-null int64\n",
      "famrel        395 non-null int64\n",
      "freetime      395 non-null int64\n",
      "goout         395 non-null int64\n",
      "Dalc          395 non-null int64\n",
      "Walc          395 non-null int64\n",
      "health        395 non-null int64\n",
      "absences      395 non-null int64\n",
      "G1            395 non-null int64\n",
      "G2            395 non-null int64\n",
      "G3            395 non-null int64\n",
      "dtypes: int64(33)\n",
      "memory usage: 102.0 KB\n"
     ]
    }
   ],
   "source": [
    "encoded_math.info()"
   ]
  },
  {
   "cell_type": "code",
   "execution_count": 382,
   "metadata": {},
   "outputs": [
    {
     "name": "stdout",
     "output_type": "stream",
     "text": [
      "Object type attributes before encoding:\n",
      "\n",
      "school     :{'GP', 'MS'}\n",
      "sex        :{'F', 'M'}\n",
      "address    :{'U', 'R'}\n",
      "famsize    :{'GT3', 'LE3'}\n",
      "Pstatus    :{'T', 'A'}\n",
      "Mjob       :{'teacher', 'at_home', 'other', 'services', 'health'}\n",
      "Fjob       :{'teacher', 'at_home', 'other', 'services', 'health'}\n",
      "reason     :{'other', 'reputation', 'course', 'home'}\n",
      "guardian   :{'mother', 'other', 'father'}\n",
      "schoolsup  :{'yes', 'no'}\n",
      "famsup     :{'no', 'yes'}\n",
      "paid       :{'no', 'yes'}\n",
      "activities :{'no', 'yes'}\n",
      "nursery    :{'yes', 'no'}\n",
      "higher     :{'yes', 'no'}\n",
      "internet   :{'no', 'yes'}\n",
      "romantic   :{'no', 'yes'}\n",
      "\n",
      "Object type attributes after encoding:\n",
      "\n",
      "school     :{0, 1}\n",
      "sex        :{0, 1}\n",
      "address    :{0, 1}\n",
      "famsize    :{0, 1}\n",
      "Pstatus    :{0, 1}\n",
      "reason     :{0, 1, 2, 3}\n",
      "guardian   :{0, 1, 2}\n"
     ]
    }
   ],
   "source": [
    "print(\"Object type attributes before encoding:\\n\")\n",
    "for attr in encoded_port.head():\n",
    "    if encoded_port[attr].dtype == object:\n",
    "        print(f\"{attr.ljust(11)}:{set(encoded_port[attr])}\")\n",
    "\n",
    "#Manually encoding for uniformity across attributes\n",
    "encoded_port.iloc[:, 15:23] = encoded_port.iloc[:, 15:23].replace(replace_dict).astype('int')\n",
    "encoded_port.iloc[:, 8:10] = encoded_port.iloc[:, 8:10].replace(replace_dict).astype('int')\n",
    "\n",
    "print(\"\\nObject type attributes after encoding:\\n\")\n",
    "for attr in encoded_port.head():\n",
    "    if encoded_port[attr].dtype == object:\n",
    "        encoded_port[attr] = l_encoder.fit_transform(encoded_port[attr])\n",
    "        print(f\"{attr.ljust(11)}:{set(encoded_port[attr])}\")"
   ]
  },
  {
   "cell_type": "markdown",
   "metadata": {},
   "source": [
    "### Splitting into training and testing datasets"
   ]
  },
  {
   "cell_type": "code",
   "execution_count": 383,
   "metadata": {},
   "outputs": [],
   "source": [
    "X_math = encoded_math.iloc[:, :-1]\n",
    "y_math = encoded_math.iloc[:, -1]\n",
    "X_train_m, X_test_m, y_train_m, y_test_m = train_test_split(X_math, y_math, test_size = 0.2)"
   ]
  },
  {
   "cell_type": "code",
   "execution_count": 384,
   "metadata": {},
   "outputs": [],
   "source": [
    "X_port = encoded_port.iloc[:, :-1]\n",
    "y_port = encoded_port.iloc[:, -1]\n",
    "X_train_p, X_test_p, y_train_p, y_test_p = train_test_split(X_port, y_port, test_size = 0.2)"
   ]
  },
  {
   "cell_type": "markdown",
   "metadata": {},
   "source": [
    "# Model Training"
   ]
  },
  {
   "cell_type": "code",
   "execution_count": 385,
   "metadata": {},
   "outputs": [],
   "source": [
    "#Creating dictionaries to store accuracy of each model\n",
    "accuracies_math = {}\n",
    "accuracies_port = {}"
   ]
  },
  {
   "cell_type": "markdown",
   "metadata": {},
   "source": [
    "## Regression Techniques"
   ]
  },
  {
   "cell_type": "markdown",
   "metadata": {},
   "source": [
    "## Linear Regression"
   ]
  },
  {
   "cell_type": "markdown",
   "metadata": {},
   "source": [
    "### Math Data"
   ]
  },
  {
   "cell_type": "code",
   "execution_count": 386,
   "metadata": {
    "scrolled": true
   },
   "outputs": [
    {
     "data": {
      "text/plain": [
       "LinearRegression()"
      ]
     },
     "execution_count": 386,
     "metadata": {},
     "output_type": "execute_result"
    }
   ],
   "source": [
    "lin_reg = LinearRegression()\n",
    "lin_reg.fit(X_train_m, y_train_m)"
   ]
  },
  {
   "cell_type": "code",
   "execution_count": 387,
   "metadata": {
    "scrolled": true
   },
   "outputs": [
    {
     "name": "stdout",
     "output_type": "stream",
     "text": [
      "r2 score: 0.8550707121742507\n",
      "Cross Validation Score: 0.7922610879971848\n",
      "MAE: 1.2106098352358305\n",
      "MSE: 3.1132975327106074\n"
     ]
    }
   ],
   "source": [
    "print(\"r2 score:\", r2_score(y_test_m, lin_reg.predict(X_test_m)))\n",
    "accuracies_math['Linear Regression'] = r2_score(y_test_m, lin_reg.predict(X_test_m))\n",
    "print(\"Cross Validation Score:\", cross_val_score(lin_reg, X_train_m, y_train_m).mean())\n",
    "print(\"MAE:\", mean_absolute_error(y_test_m, lin_reg.predict(X_test_m)))\n",
    "print(\"MSE:\", mean_squared_error(y_test_m, lin_reg.predict(X_test_m)))"
   ]
  },
  {
   "cell_type": "code",
   "execution_count": 388,
   "metadata": {},
   "outputs": [
    {
     "name": "stdout",
     "output_type": "stream",
     "text": [
      "Coeffecient of each feature for Math Dataset:\n",
      "\n",
      "school     : 0.4476003360448368\n",
      "sex        : 0.036438732041148926\n",
      "age        : -0.21395554719862261\n",
      "address    : 0.10623355563000217\n",
      "famsize    : 0.11867341946626163\n",
      "Pstatus    : -0.2785828348252134\n",
      "Medu       : 0.218697910907277\n",
      "Fedu       : -0.17280292996884355\n",
      "Mjob       : -0.09571373961308456\n",
      "Fjob       : -0.02098913496949162\n",
      "reason     : 0.014563453314661695\n",
      "guardian   : 0.09262905262060282\n",
      "traveltime : 0.1379627084104398\n",
      "studytime  : -0.16378534033436107\n",
      "failures   : -0.07872886453861139\n",
      "schoolsup  : 0.60797474624206\n",
      "famsup     : 0.21041177236665876\n",
      "paid       : 0.13767467600702107\n",
      "activities : -0.30354146646713337\n",
      "nursery    : -0.22002556311179344\n",
      "higher     : 0.45261667342540984\n",
      "internet   : -0.13263208984585556\n",
      "romantic   : -0.22992546838405803\n",
      "famrel     : 0.3179274224457971\n",
      "freetime   : 0.08338613912775555\n",
      "goout      : -0.00566328126282975\n",
      "Dalc       : -0.1447273882913004\n",
      "Walc       : 0.19873477052124286\n",
      "health     : 0.0824836308294388\n",
      "absences   : 0.03893596588352476\n",
      "G1         : 0.2034050687503681\n",
      "G2         : 0.9634678513375414\n"
     ]
    }
   ],
   "source": [
    "print(\"Coeffecient of each feature for Math Dataset:\\n\")\n",
    "linreg_math_coef = dict(zip(X_train_m.columns, lin_reg.coef_))\n",
    "for col, val in zip(X_train_m.columns, lin_reg.coef_):\n",
    "    print(f\"{col.ljust(11)}: {val}\")"
   ]
  },
  {
   "cell_type": "markdown",
   "metadata": {},
   "source": [
    "### Portuguese Data"
   ]
  },
  {
   "cell_type": "code",
   "execution_count": 389,
   "metadata": {},
   "outputs": [
    {
     "data": {
      "text/plain": [
       "LinearRegression()"
      ]
     },
     "execution_count": 389,
     "metadata": {},
     "output_type": "execute_result"
    }
   ],
   "source": [
    "lin_reg = LinearRegression()\n",
    "lin_reg.fit(X_train_p, y_train_p)"
   ]
  },
  {
   "cell_type": "code",
   "execution_count": 390,
   "metadata": {},
   "outputs": [
    {
     "name": "stdout",
     "output_type": "stream",
     "text": [
      "r2 score: 0.9170344679169395\n",
      "Cross Validation Score: 0.8127729292364341\n",
      "MAE: 0.6537775284752108\n",
      "MSE: 0.734200776107349\n"
     ]
    }
   ],
   "source": [
    "print(\"r2 score:\", r2_score(y_test_p, lin_reg.predict(X_test_p)))\n",
    "accuracies_port[\"Linear Regression\"] = r2_score(y_test_p, lin_reg.predict(X_test_p))\n",
    "print(\"Cross Validation Score:\", cross_val_score(lin_reg, X_train_p, y_train_p).mean())\n",
    "print(\"MAE:\", mean_absolute_error(y_test_p, lin_reg.predict(X_test_p)))\n",
    "print(\"MSE:\", mean_squared_error(y_test_p, lin_reg.predict(X_test_p)))"
   ]
  },
  {
   "cell_type": "code",
   "execution_count": 391,
   "metadata": {},
   "outputs": [
    {
     "name": "stdout",
     "output_type": "stream",
     "text": [
      "Coeffecient of each feature for Portuguese Dataset:\n",
      "\n",
      "school     : -0.2620153430721748\n",
      "sex        : -0.17866070002290474\n",
      "age        : 0.05030068390756237\n",
      "address    : 0.1199208558837097\n",
      "famsize    : 0.07082081337852045\n",
      "Pstatus    : -0.05235084044784798\n",
      "Medu       : -0.18573913206745105\n",
      "Fedu       : 0.07442640262950354\n",
      "Mjob       : 0.13350365638491632\n",
      "Fjob       : -0.04765638534389395\n",
      "reason     : -0.08452368400454029\n",
      "guardian   : 0.02423990055205099\n",
      "traveltime : 0.12862113281172552\n",
      "studytime  : 0.04964549764055961\n",
      "failures   : -0.28120085288166924\n",
      "schoolsup  : -0.02856583613500602\n",
      "famsup     : 0.09492953510060129\n",
      "paid       : -0.15154291030703113\n",
      "activities : 0.10535888138277437\n",
      "nursery    : -0.08097526311323675\n",
      "higher     : 0.2531199860573909\n",
      "internet   : 0.11562813560778393\n",
      "romantic   : -0.09368509942828435\n",
      "famrel     : -0.04712635429980961\n",
      "freetime   : -0.04307686805256806\n",
      "goout      : -0.018043809634885666\n",
      "Dalc       : -0.04390642544963605\n",
      "Walc       : -0.023372102502049623\n",
      "health     : -0.07733172436897084\n",
      "absences   : 0.014769705135442944\n",
      "G1         : 0.12953130568935528\n",
      "G2         : 0.8756882528912375\n"
     ]
    }
   ],
   "source": [
    "print(\"Coeffecient of each feature for Portuguese Dataset:\\n\")\n",
    "linreg_port_coef = dict(zip(X_train_p.columns, lin_reg.coef_))\n",
    "for col, val in zip(X_train_p.columns, lin_reg.coef_):\n",
    "    print(f\"{col.ljust(11)}: {val}\")"
   ]
  },
  {
   "cell_type": "markdown",
   "metadata": {},
   "source": [
    "## Polynomial Regression"
   ]
  },
  {
   "cell_type": "markdown",
   "metadata": {},
   "source": [
    "### Math Data"
   ]
  },
  {
   "cell_type": "code",
   "execution_count": 392,
   "metadata": {},
   "outputs": [
    {
     "name": "stdout",
     "output_type": "stream",
     "text": [
      "Degree: 1\n",
      "MSE: 3.1132975327106047\n",
      "MAE: 1.2106098352358274\n",
      "r2 score: 0.8550707121742509\n",
      "\n",
      "Degree: 2\n",
      "MSE: 14.030169055106022\n",
      "MAE: 3.1370579856490894\n",
      "r2 score: 0.34687180140440754\n",
      "\n",
      "Degree: 3\n",
      "MSE: 33.97947487983233\n",
      "MAE: 2.7587729367682536\n",
      "r2 score: -0.5818022669806933\n",
      "\n",
      "Degree: 4\n",
      "MSE: 10.264901560493074\n",
      "MAE: 2.2623690923412427\n",
      "r2 score: 0.5221513982737063\n",
      "\n",
      "Degree: 5\n",
      "MSE: 16.73471861962902\n",
      "MAE: 2.5091153607479217\n",
      "r2 score: 0.2209704257223699\n",
      "\n"
     ]
    }
   ],
   "source": [
    "r2_deg = dict()\n",
    "for deg in range(1, 6):\n",
    "    poly_reg = PolynomialFeatures(degree = deg)\n",
    "    X_train_m_poly = poly_reg.fit_transform(X_train_m)\n",
    "    X_test_m_poly = poly_reg.fit_transform(X_test_m)\n",
    "    pol_reg = LinearRegression()\n",
    "    pol_reg.fit(X_train_m_poly, y_train_m)\n",
    "    \n",
    "    pol_pred = pol_reg.predict(X_test_m_poly)\n",
    "    \n",
    "    print(\"Degree:\", deg)\n",
    "    print(\"MSE:\", mean_squared_error(y_test_m, pol_pred))\n",
    "    print(\"MAE:\", mean_absolute_error(y_test_m, pol_pred))\n",
    "    r2 = r2_score(y_test_m, pol_pred)\n",
    "    print(f\"r2 score: {r2}\\n\")\n",
    "    r2_deg[r2] = deg"
   ]
  },
  {
   "cell_type": "code",
   "execution_count": 393,
   "metadata": {},
   "outputs": [
    {
     "name": "stdout",
     "output_type": "stream",
     "text": [
      "Best possible degree for Polynomial Regression on Math Dataset:\n",
      "Degree: 1\n",
      "Cross Validation Score: 0.7922610879971849\n",
      "MSE: 3.1132975327106047\n",
      "MAE: 1.2106098352358274\n",
      "r2 score: 0.8550707121742509\n",
      "\n"
     ]
    }
   ],
   "source": [
    "deg = r2_deg[max(r2_deg.keys())]\n",
    "\n",
    "poly_reg = PolynomialFeatures(degree = deg)\n",
    "X_train_m_poly = poly_reg.fit_transform(X_train_m)\n",
    "X_test_m_poly = poly_reg.fit_transform(X_test_m)\n",
    "pol_reg = LinearRegression()\n",
    "pol_reg.fit(X_train_m_poly, y_train_m)\n",
    "    \n",
    "pol_pred = pol_reg.predict(X_test_m_poly)\n",
    "print(\"Best possible degree for Polynomial Regression on Math Dataset:\")    \n",
    "print(\"Degree:\", deg)\n",
    "r2 = r2_score(y_test_m, pol_pred)\n",
    "accuracies_math[f\"Polynomial Regression Degree:{deg}\"] = r2\n",
    "print(\"Cross Validation Score:\", cross_val_score(pol_reg, X_train_m_poly, y_train_m).mean())\n",
    "print(\"MSE:\", mean_squared_error(y_test_m, pol_pred))\n",
    "print(\"MAE:\", mean_absolute_error(y_test_m, pol_pred))\n",
    "print(f\"r2 score: {r2}\\n\")"
   ]
  },
  {
   "cell_type": "markdown",
   "metadata": {},
   "source": [
    "### Portuguese Data"
   ]
  },
  {
   "cell_type": "code",
   "execution_count": 394,
   "metadata": {},
   "outputs": [
    {
     "name": "stdout",
     "output_type": "stream",
     "text": [
      "Degree: 1\n",
      "MSE: 0.7342007761073502\n",
      "MAE: 0.6537775284752115\n",
      "r2 score: 0.9170344679169393\n",
      "\n",
      "Degree: 2\n",
      "MSE: 79.70874690014993\n",
      "MAE: 6.258535873279617\n",
      "r2 score: -8.00718007042535\n",
      "\n",
      "Degree: 3\n",
      "MSE: 4.959426781622777\n",
      "MAE: 1.5962843320007938\n",
      "r2 score: 0.43957906998432084\n",
      "\n",
      "Degree: 4\n",
      "MSE: 4.991351790625437\n",
      "MAE: 1.581807907393317\n",
      "r2 score: 0.4359715072509971\n",
      "\n",
      "Degree: 5\n",
      "MSE: 5.887475851313713\n",
      "MAE: 1.6600530245252072\n",
      "r2 score: 0.33470845778703806\n",
      "\n"
     ]
    }
   ],
   "source": [
    "r2_deg = dict()\n",
    "for deg in range(1, 6):\n",
    "    poly_reg = PolynomialFeatures(degree = deg)\n",
    "    X_train_p_poly = poly_reg.fit_transform(X_train_p)\n",
    "    X_test_p_poly = poly_reg.fit_transform(X_test_p)\n",
    "    pol_reg = LinearRegression()\n",
    "    pol_reg.fit(X_train_p_poly, y_train_p)\n",
    "    \n",
    "    pol_pred = pol_reg.predict(X_test_p_poly)\n",
    "    \n",
    "    print(\"Degree:\", deg)\n",
    "    r2 = r2_score(y_test_p, pol_pred)\n",
    "    print(\"MSE:\", mean_squared_error(y_test_p, pol_pred))\n",
    "    print(\"MAE:\", mean_absolute_error(y_test_p, pol_pred))\n",
    "    print(f\"r2 score: {r2}\\n\")\n",
    "    r2_deg[r2] = deg"
   ]
  },
  {
   "cell_type": "code",
   "execution_count": 395,
   "metadata": {},
   "outputs": [
    {
     "name": "stdout",
     "output_type": "stream",
     "text": [
      "Best possible degree for Polynomial Regression on Portuguese Dataset:\n",
      "Degree: 1\n",
      "Cross Validation Score: 0.812772929236434\n",
      "MSE: 0.7342007761073502\n",
      "MAE: 0.6537775284752115\n",
      "r2 score: 0.9170344679169393\n",
      "\n"
     ]
    }
   ],
   "source": [
    "deg = r2_deg[max(r2_deg.keys())]\n",
    "\n",
    "poly_reg = PolynomialFeatures(degree = deg)\n",
    "X_train_p_poly = poly_reg.fit_transform(X_train_p)\n",
    "X_test_p_poly = poly_reg.fit_transform(X_test_p)\n",
    "pol_reg = LinearRegression()\n",
    "pol_reg.fit(X_train_p_poly, y_train_p)\n",
    "    \n",
    "pol_pred = pol_reg.predict(X_test_p_poly)\n",
    "    \n",
    "print(\"Best possible degree for Polynomial Regression on Portuguese Dataset:\")\n",
    "print(\"Degree:\", deg)\n",
    "r2 = r2_score(y_test_p, pol_pred)\n",
    "accuracies_port[f\"Polynomial Regression Degree:{deg}\"] = r2\n",
    "print(\"Cross Validation Score:\", cross_val_score(pol_reg, X_train_p_poly, y_train_p).mean())\n",
    "print(\"MSE:\", mean_squared_error(y_test_p, pol_pred))\n",
    "print(\"MAE:\", mean_absolute_error(y_test_p, pol_pred))\n",
    "print(f\"r2 score: {r2}\\n\")\n",
    "r2_deg[r2] = deg"
   ]
  },
  {
   "cell_type": "markdown",
   "metadata": {},
   "source": [
    "## Decision Tree Regressor"
   ]
  },
  {
   "cell_type": "markdown",
   "metadata": {},
   "source": [
    "### Math Data"
   ]
  },
  {
   "cell_type": "code",
   "execution_count": 396,
   "metadata": {
    "scrolled": true
   },
   "outputs": [
    {
     "name": "stdout",
     "output_type": "stream",
     "text": [
      "The best parameters for Decision Tree Regression:\n"
     ]
    },
    {
     "data": {
      "text/plain": [
       "{'criterion': 'squared_error', 'splitter': 'best'}"
      ]
     },
     "execution_count": 396,
     "metadata": {},
     "output_type": "execute_result"
    }
   ],
   "source": [
    "params = {'criterion':['squared_error', 'friedman_mse', 'absolute_error'], 'splitter':['best', 'random']}\n",
    "\n",
    "grid = GridSearchCV(DecisionTreeRegressor(), params)\n",
    "grid.fit(X_train_m, y_train_m)\n",
    "print(\"The best parameters for Decision Tree Regression:\")\n",
    "grid.best_params_"
   ]
  },
  {
   "cell_type": "code",
   "execution_count": 397,
   "metadata": {},
   "outputs": [],
   "source": [
    "clsf = DecisionTreeRegressor(criterion = grid.best_params_['criterion'], splitter = grid.best_params_['splitter'])\n",
    "\n",
    "clsf = clsf.fit(X_train_m, y_train_m)"
   ]
  },
  {
   "cell_type": "code",
   "execution_count": 398,
   "metadata": {},
   "outputs": [
    {
     "name": "stdout",
     "output_type": "stream",
     "text": [
      "Accuracy Score: 0.7171542374651291\n",
      "Cross Validation Score: 0.7459599018243576\n"
     ]
    }
   ],
   "source": [
    "y_pred = clsf.predict(X_test_m)\n",
    "print(\"Accuracy Score:\", clsf.score(X_test_m, y_test_m))\n",
    "print(\"Cross Validation Score:\", cross_val_score(clsf, X_train_m, y_train_m).mean())\n",
    "accuracies_math[\"Decision Tree Regressor\"] = clsf.score(X_test_m, y_test_m)"
   ]
  },
  {
   "cell_type": "markdown",
   "metadata": {},
   "source": [
    "### Portuguese Data"
   ]
  },
  {
   "cell_type": "code",
   "execution_count": 399,
   "metadata": {},
   "outputs": [
    {
     "name": "stdout",
     "output_type": "stream",
     "text": [
      "The best parameters for Decision Tree Regression:\n"
     ]
    },
    {
     "data": {
      "text/plain": [
       "{'criterion': 'friedman_mse', 'splitter': 'best'}"
      ]
     },
     "execution_count": 399,
     "metadata": {},
     "output_type": "execute_result"
    }
   ],
   "source": [
    "params = {'criterion':['squared_error', 'friedman_mse', 'absolute_error'], 'splitter':['best', 'random']}\n",
    "\n",
    "grid = GridSearchCV(DecisionTreeRegressor(), params)\n",
    "grid.fit(X_train_p, y_train_p)\n",
    "print(\"The best parameters for Decision Tree Regression:\")\n",
    "grid.best_params_"
   ]
  },
  {
   "cell_type": "code",
   "execution_count": 400,
   "metadata": {},
   "outputs": [],
   "source": [
    "clsf = DecisionTreeRegressor(criterion = grid.best_params_['criterion'], splitter = grid.best_params_['splitter'])\n",
    "\n",
    "clsf = clsf.fit(X_train_p, y_train_p)"
   ]
  },
  {
   "cell_type": "code",
   "execution_count": 401,
   "metadata": {},
   "outputs": [
    {
     "name": "stdout",
     "output_type": "stream",
     "text": [
      "Accuracy Score: 0.7174971248228088\n",
      "Cross Validation Score: 0.7125682788154262\n"
     ]
    }
   ],
   "source": [
    "y_pred = clsf.predict(X_test_m)\n",
    "print(\"Accuracy Score:\", clsf.score(X_test_p, y_test_p))\n",
    "print(\"Cross Validation Score:\", cross_val_score(clsf, X_train_p, y_train_p).mean())\n",
    "accuracies_port[\"Decision Tree Regressor\"] = clsf.score(X_test_p, y_test_p)"
   ]
  },
  {
   "cell_type": "markdown",
   "metadata": {},
   "source": [
    "## Support Vector Regression"
   ]
  },
  {
   "cell_type": "markdown",
   "metadata": {},
   "source": [
    "### Math Data"
   ]
  },
  {
   "cell_type": "code",
   "execution_count": 402,
   "metadata": {},
   "outputs": [
    {
     "name": "stdout",
     "output_type": "stream",
     "text": [
      "Polynomial Kernel\n",
      "Degree: 1\n",
      "Accuracy (Test Data): 0.8408626940870564\n",
      "Accuracy (Train Data): 0.8043669510544331\n",
      "\n",
      "Degree: 2\n",
      "Accuracy (Test Data): 0.8437243317161573\n",
      "Accuracy (Train Data): 0.8453135047385709\n",
      "\n",
      "Degree: 3\n",
      "Accuracy (Test Data): 0.8018280637813596\n",
      "Accuracy (Train Data): 0.8835742721537667\n",
      "\n",
      "Degree: 4\n",
      "Accuracy (Test Data): 0.7796395988151968\n",
      "Accuracy (Train Data): 0.9107363320801634\n",
      "\n"
     ]
    }
   ],
   "source": [
    "print(\"Polynomial Kernel\")\n",
    "for i in range(1, 5):\n",
    "    model = SVR(kernel = 'poly', degree = i, C = 100)\n",
    "    model.fit(X_train_m, y_train_m)\n",
    "    print(f'Degree: {i}')\n",
    "    print(f'Accuracy (Test Data): {model.score(X_test_m, y_test_m)}')\n",
    "    print(f'Accuracy (Train Data): {model.score(X_train_m, y_train_m)}\\n')"
   ]
  },
  {
   "cell_type": "code",
   "execution_count": 403,
   "metadata": {},
   "outputs": [
    {
     "name": "stdout",
     "output_type": "stream",
     "text": [
      "Result of grid search:\n",
      "{'C': 100, 'degree': 1, 'kernel': 'rbf'}\n",
      "Accuracy of selected kernel: 0.8895922420331611\n",
      "\n",
      "The kernel that works best for the SVM regression of this dataset is: rbf\n"
     ]
    }
   ],
   "source": [
    "param_grid = {'C':[0.1, 1, 100], 'kernel':['rbf', 'poly', 'sigmoid', 'linear'], 'degree':[1, 2, 3, 4]}\n",
    "\n",
    "grid = GridSearchCV(SVR(), param_grid)\n",
    "grid.fit(X_train_m, y_train_m)\n",
    "\n",
    "print(\"Result of grid search:\")\n",
    "print(grid.best_params_)\n",
    "print(f\"Accuracy of selected kernel: {grid.score(X_test_m, y_test_m)}\")\n",
    "print(f\"\\nThe kernel that works best for the SVM regression of this dataset is: {grid.best_params_['kernel']}\")"
   ]
  },
  {
   "cell_type": "code",
   "execution_count": 404,
   "metadata": {},
   "outputs": [
    {
     "name": "stdout",
     "output_type": "stream",
     "text": [
      "Accuracy (Test Data): 0.8895922420331611\n",
      "Accuracy (Train Data): 0.8956030465384209\n",
      "Cross Validation Score: 0.8206964264016868\n"
     ]
    }
   ],
   "source": [
    "model = SVR(kernel = grid.best_params_['kernel'], degree = grid.best_params_['degree'], C = grid.best_params_['C'])\n",
    "model.fit(X_train_m, y_train_m)\n",
    "print(f'Accuracy (Test Data): {model.score(X_test_m, y_test_m)}')\n",
    "print(f'Accuracy (Train Data): {model.score(X_train_m, y_train_m)}')\n",
    "print(\"Cross Validation Score:\", cross_val_score(model, X_train_m, y_train_m).mean())\n",
    "svr_coef = zip(X_train_m.columns, model.dual_coef_)\n",
    "accuracies_math[\"Support Vector Regression\"] = model.score(X_test_m, y_test_m)"
   ]
  },
  {
   "cell_type": "markdown",
   "metadata": {},
   "source": [
    "### Portuguese Data"
   ]
  },
  {
   "cell_type": "code",
   "execution_count": 405,
   "metadata": {},
   "outputs": [
    {
     "name": "stdout",
     "output_type": "stream",
     "text": [
      "Accuracy for each kernel:\n",
      "\n",
      "Kernel: linear\n",
      "Accuracy: 0.9236383896122651\n",
      "\n",
      "Kernel: rbf\n",
      "Accuracy: 0.879822099470515\n",
      "\n",
      "Kernel: poly\n",
      "Accuracy: 0.8886824968199996\n",
      "\n",
      "Kernel: sigmoid\n",
      "Accuracy: -0.1741285445165779\n",
      "\n"
     ]
    }
   ],
   "source": [
    "kernels = ['linear', 'rbf', 'poly', 'sigmoid']\n",
    "print(\"Accuracy for each kernel:\\n\")\n",
    "for kern in kernels:\n",
    "    model = SVR(kernel = kern, C = 1)\n",
    "    model.fit(X_train_p, y_train_p)\n",
    "    print(f\"Kernel: {kern}\")\n",
    "    print(f\"Accuracy: {model.score(X_test_p, y_test_p)}\\n\")"
   ]
  },
  {
   "cell_type": "code",
   "execution_count": 406,
   "metadata": {},
   "outputs": [
    {
     "name": "stdout",
     "output_type": "stream",
     "text": [
      "Polynomial Kernel\n",
      "Degree: 1\n",
      "Accuracy (Test Data): 0.9235947676207199\n",
      "Accuracy (Train Data): 0.8292084950278462\n",
      "\n",
      "Degree: 2\n",
      "Accuracy (Test Data): 0.9180568457010105\n",
      "Accuracy (Train Data): 0.8599091009854312\n",
      "\n",
      "Degree: 3\n",
      "Accuracy (Test Data): 0.9025243570109319\n",
      "Accuracy (Train Data): 0.8842712674767084\n",
      "\n",
      "Degree: 4\n",
      "Accuracy (Test Data): 0.8678902635948003\n",
      "Accuracy (Train Data): 0.9027659421308432\n",
      "\n"
     ]
    }
   ],
   "source": [
    "print(\"Polynomial Kernel\")\n",
    "for i in range(1, 5):\n",
    "    model = SVR(kernel = 'poly', degree = i, C = 100)\n",
    "    model.fit(X_train_p, y_train_p)\n",
    "    print(f'Degree: {i}')\n",
    "    print(f'Accuracy (Test Data): {model.score(X_test_p, y_test_p)}')\n",
    "    print(f'Accuracy (Train Data): {model.score(X_train_p, y_train_p)}\\n')"
   ]
  },
  {
   "cell_type": "code",
   "execution_count": 407,
   "metadata": {},
   "outputs": [
    {
     "name": "stdout",
     "output_type": "stream",
     "text": [
      "Result of grid search:\n",
      "{'C': 0.1, 'degree': 1, 'kernel': 'linear'}\n",
      "Accuracy of selected kernel: 0.9233549134044965\n",
      "\n",
      "The kernel that works best for the SVM regression of this dataset is: linear\n"
     ]
    }
   ],
   "source": [
    "param_grid = {'C':[0.1, 1, 100], 'kernel':['rbf', 'poly', 'sigmoid', 'linear'], 'degree':[1, 2, 3, 4]}\n",
    "\n",
    "grid = GridSearchCV(SVR(), param_grid)\n",
    "grid.fit(X_train_p, y_train_p)\n",
    "\n",
    "print(\"Result of grid search:\")\n",
    "print(grid.best_params_)\n",
    "print(f\"Accuracy of selected kernel: {grid.score(X_test_p, y_test_p)}\")\n",
    "print(f\"\\nThe kernel that works best for the SVM regression of this dataset is: {grid.best_params_['kernel']}\")"
   ]
  },
  {
   "cell_type": "code",
   "execution_count": 408,
   "metadata": {},
   "outputs": [
    {
     "name": "stdout",
     "output_type": "stream",
     "text": [
      "Accuracy (Test Data): 0.9233549134044965\n",
      "Accuracy (Train Data): 0.8286693370961339\n",
      "Cross Validation Score: 0.8208554535953476\n"
     ]
    }
   ],
   "source": [
    "model = SVR(kernel = grid.best_params_['kernel'], degree = grid.best_params_['degree'], C = grid.best_params_['C'])\n",
    "model.fit(X_train_p, y_train_p)\n",
    "print(f'Accuracy (Test Data): {model.score(X_test_p, y_test_p)}')\n",
    "print(f'Accuracy (Train Data): {model.score(X_train_p, y_train_p)}')\n",
    "print(\"Cross Validation Score:\", cross_val_score(model, X_train_p, y_train_p).mean())\n",
    "accuracies_port[\"Support Vector Regression\"] = model.score(X_test_p, y_test_p)"
   ]
  },
  {
   "cell_type": "markdown",
   "metadata": {},
   "source": [
    "## Decision Tree Classifier"
   ]
  },
  {
   "cell_type": "markdown",
   "metadata": {},
   "source": [
    "### Math Data"
   ]
  },
  {
   "cell_type": "code",
   "execution_count": 409,
   "metadata": {},
   "outputs": [
    {
     "name": "stdout",
     "output_type": "stream",
     "text": [
      "The best parameters for Decision Tree Classification:\n"
     ]
    },
    {
     "name": "stderr",
     "output_type": "stream",
     "text": [
      "/opt/anaconda3/lib/python3.7/site-packages/sklearn/model_selection/_split.py:680: UserWarning: The least populated class in y has only 1 members, which is less than n_splits=5.\n",
      "  UserWarning,\n"
     ]
    },
    {
     "data": {
      "text/plain": [
       "{'criterion': 'gini', 'splitter': 'best'}"
      ]
     },
     "execution_count": 409,
     "metadata": {},
     "output_type": "execute_result"
    }
   ],
   "source": [
    "params = {'criterion':['gini', 'entropy'], 'splitter':['best', 'random']}\n",
    "\n",
    "grid = GridSearchCV(DecisionTreeClassifier(), params)\n",
    "grid.fit(X_train_m, y_train_m)\n",
    "print(\"The best parameters for Decision Tree Classification:\")\n",
    "grid.best_params_"
   ]
  },
  {
   "cell_type": "code",
   "execution_count": 410,
   "metadata": {},
   "outputs": [],
   "source": [
    "clsf = DecisionTreeClassifier(criterion = grid.best_params_['criterion'], splitter = grid.best_params_['splitter'])\n",
    "\n",
    "clsf = clsf.fit(X_train_m, y_train_m)"
   ]
  },
  {
   "cell_type": "code",
   "execution_count": 411,
   "metadata": {},
   "outputs": [
    {
     "name": "stderr",
     "output_type": "stream",
     "text": [
      "/opt/anaconda3/lib/python3.7/site-packages/sklearn/model_selection/_split.py:680: UserWarning: The least populated class in y has only 1 members, which is less than n_splits=5.\n",
      "  UserWarning,\n"
     ]
    },
    {
     "name": "stdout",
     "output_type": "stream",
     "text": [
      "Accuracy Score: 0.35443037974683544\n",
      "Cross Validation Score: 0.40486111111111106\n"
     ]
    }
   ],
   "source": [
    "y_pred = clsf.predict(X_test_m)\n",
    "print(\"Accuracy Score:\", clsf.score(X_test_m, y_test_m))\n",
    "print(\"Cross Validation Score:\", cross_val_score(clsf, X_train_m, y_train_m).mean())\n",
    "accuracies_math[\"Decision Tree Classifier\"] = clsf.score(X_test_m, y_test_m)"
   ]
  },
  {
   "cell_type": "markdown",
   "metadata": {},
   "source": [
    "### Portuguese Data"
   ]
  },
  {
   "cell_type": "code",
   "execution_count": 412,
   "metadata": {},
   "outputs": [
    {
     "name": "stderr",
     "output_type": "stream",
     "text": [
      "/opt/anaconda3/lib/python3.7/site-packages/sklearn/model_selection/_split.py:680: UserWarning: The least populated class in y has only 1 members, which is less than n_splits=5.\n",
      "  UserWarning,\n"
     ]
    },
    {
     "name": "stdout",
     "output_type": "stream",
     "text": [
      "The best parameters for Decision Tree Classification:\n"
     ]
    },
    {
     "data": {
      "text/plain": [
       "{'criterion': 'entropy', 'splitter': 'best'}"
      ]
     },
     "execution_count": 412,
     "metadata": {},
     "output_type": "execute_result"
    }
   ],
   "source": [
    "params = {'criterion':['gini', 'entropy'], 'splitter':['best', 'random']}\n",
    "\n",
    "grid = GridSearchCV(DecisionTreeClassifier(), params)\n",
    "grid.fit(X_train_p, y_train_p)\n",
    "print(\"The best parameters for Decision Tree Classification:\")\n",
    "grid.best_params_"
   ]
  },
  {
   "cell_type": "code",
   "execution_count": 413,
   "metadata": {},
   "outputs": [],
   "source": [
    "clsf = DecisionTreeClassifier(criterion = grid.best_params_['criterion'], splitter = grid.best_params_['splitter'])\n",
    "\n",
    "clsf = clsf.fit(X_train_p, y_train_p)"
   ]
  },
  {
   "cell_type": "code",
   "execution_count": 414,
   "metadata": {},
   "outputs": [
    {
     "name": "stdout",
     "output_type": "stream",
     "text": [
      "Accuracy Score: 0.4307692307692308\n",
      "Cross Validation Score: 0.3911501120238984\n"
     ]
    },
    {
     "name": "stderr",
     "output_type": "stream",
     "text": [
      "/opt/anaconda3/lib/python3.7/site-packages/sklearn/model_selection/_split.py:680: UserWarning: The least populated class in y has only 1 members, which is less than n_splits=5.\n",
      "  UserWarning,\n"
     ]
    }
   ],
   "source": [
    "y_pred = clsf.predict(X_test_p)\n",
    "print(\"Accuracy Score:\", clsf.score(X_test_p, y_test_p))\n",
    "print(\"Cross Validation Score:\", cross_val_score(clsf, X_train_p, y_train_p).mean())\n",
    "accuracies_port[\"Decision Tree Classifier\"] = clsf.score(X_test_p, y_test_p)"
   ]
  },
  {
   "cell_type": "markdown",
   "metadata": {},
   "source": [
    "## KNN Classifier"
   ]
  },
  {
   "cell_type": "markdown",
   "metadata": {},
   "source": [
    "### Math Data"
   ]
  },
  {
   "cell_type": "code",
   "execution_count": 415,
   "metadata": {},
   "outputs": [
    {
     "name": "stderr",
     "output_type": "stream",
     "text": [
      "/opt/anaconda3/lib/python3.7/site-packages/sklearn/model_selection/_split.py:680: UserWarning: The least populated class in y has only 1 members, which is less than n_splits=5.\n",
      "  UserWarning,\n"
     ]
    },
    {
     "name": "stdout",
     "output_type": "stream",
     "text": [
      "The best parameters for KNN Classification:\n"
     ]
    },
    {
     "data": {
      "text/plain": [
       "{'n_neighbors': 5, 'weights': 'uniform'}"
      ]
     },
     "execution_count": 415,
     "metadata": {},
     "output_type": "execute_result"
    }
   ],
   "source": [
    "knn_params = {'n_neighbors': [i for i in range(3, 16, 2)], 'weights': ['uniform', 'distance']}\n",
    "grid = GridSearchCV(neighbors.KNeighborsClassifier(), knn_params)\n",
    "grid.fit(X_train_m, y_train_m)\n",
    "print(\"The best parameters for KNN Classification:\")\n",
    "grid.best_params_"
   ]
  },
  {
   "cell_type": "code",
   "execution_count": 416,
   "metadata": {},
   "outputs": [
    {
     "name": "stdout",
     "output_type": "stream",
     "text": [
      "Accuracy Score: 0.31645569620253167\n",
      "Cross Validation Score: 0.3575396825396825\n"
     ]
    },
    {
     "name": "stderr",
     "output_type": "stream",
     "text": [
      "/opt/anaconda3/lib/python3.7/site-packages/sklearn/model_selection/_split.py:680: UserWarning: The least populated class in y has only 1 members, which is less than n_splits=5.\n",
      "  UserWarning,\n"
     ]
    }
   ],
   "source": [
    "knn_math = neighbors.KNeighborsClassifier(weights = grid.best_params_['weights'], n_neighbors = grid.best_params_['n_neighbors'])\n",
    "knn_math.fit(X_train_m, y_train_m)\n",
    "print(\"Accuracy Score:\", knn_math.score(X_test_m, y_test_m))\n",
    "print(\"Cross Validation Score:\", cross_val_score(knn_math, X_train_m, y_train_m).mean())\n",
    "accuracies_math[\"KNN Classifier\"] = knn_math.score(X_test_m, y_test_m)"
   ]
  },
  {
   "cell_type": "markdown",
   "metadata": {},
   "source": [
    "### Portuguese Data"
   ]
  },
  {
   "cell_type": "code",
   "execution_count": 417,
   "metadata": {},
   "outputs": [
    {
     "name": "stderr",
     "output_type": "stream",
     "text": [
      "/opt/anaconda3/lib/python3.7/site-packages/sklearn/model_selection/_split.py:680: UserWarning: The least populated class in y has only 1 members, which is less than n_splits=5.\n",
      "  UserWarning,\n"
     ]
    },
    {
     "name": "stdout",
     "output_type": "stream",
     "text": [
      "The best parameters for KNN Classification:\n"
     ]
    },
    {
     "data": {
      "text/plain": [
       "{'n_neighbors': 11, 'weights': 'distance'}"
      ]
     },
     "execution_count": 417,
     "metadata": {},
     "output_type": "execute_result"
    }
   ],
   "source": [
    "knn_params = {'n_neighbors': [i for i in range(3, 16, 2)], 'weights': ['uniform', 'distance']}\n",
    "grid = GridSearchCV(neighbors.KNeighborsClassifier(), knn_params)\n",
    "grid.fit(X_train_p, y_train_p)\n",
    "print(\"The best parameters for KNN Classification:\")\n",
    "grid.best_params_"
   ]
  },
  {
   "cell_type": "code",
   "execution_count": 418,
   "metadata": {},
   "outputs": [
    {
     "name": "stdout",
     "output_type": "stream",
     "text": [
      "Accuracy Score: 0.26153846153846155\n",
      "Cross Validation Score: 0.38711725168035843\n"
     ]
    },
    {
     "name": "stderr",
     "output_type": "stream",
     "text": [
      "/opt/anaconda3/lib/python3.7/site-packages/sklearn/model_selection/_split.py:680: UserWarning: The least populated class in y has only 1 members, which is less than n_splits=5.\n",
      "  UserWarning,\n"
     ]
    }
   ],
   "source": [
    "knn_port = neighbors.KNeighborsClassifier(weights = grid.best_params_['weights'], n_neighbors = grid.best_params_['n_neighbors'])\n",
    "knn_port.fit(X_train_p, y_train_p)\n",
    "print(\"Accuracy Score:\", knn_port.score(X_test_p, y_test_p))\n",
    "print(\"Cross Validation Score:\", cross_val_score(knn_port, X_train_p, y_train_p).mean())\n",
    "accuracies_port[\"KNN Classifier\"] = knn_port.score(X_test_m, y_test_m)"
   ]
  },
  {
   "cell_type": "markdown",
   "metadata": {},
   "source": [
    "## Support Vector Classification"
   ]
  },
  {
   "cell_type": "markdown",
   "metadata": {},
   "source": [
    "### Math Data"
   ]
  },
  {
   "cell_type": "code",
   "execution_count": 419,
   "metadata": {},
   "outputs": [
    {
     "name": "stdout",
     "output_type": "stream",
     "text": [
      "Accuracy for each kernel:\n",
      "\n",
      "Kernel: linear\n"
     ]
    },
    {
     "name": "stderr",
     "output_type": "stream",
     "text": [
      "/opt/anaconda3/lib/python3.7/site-packages/sklearn/model_selection/_split.py:680: UserWarning: The least populated class in y has only 1 members, which is less than n_splits=5.\n",
      "  UserWarning,\n"
     ]
    },
    {
     "name": "stdout",
     "output_type": "stream",
     "text": [
      "Cross Validation Score: 0.3765376984126984\n",
      "Accuracy: 0.4430379746835443\n",
      "\n",
      "Kernel: rbf\n"
     ]
    },
    {
     "name": "stderr",
     "output_type": "stream",
     "text": [
      "/opt/anaconda3/lib/python3.7/site-packages/sklearn/model_selection/_split.py:680: UserWarning: The least populated class in y has only 1 members, which is less than n_splits=5.\n",
      "  UserWarning,\n"
     ]
    },
    {
     "name": "stdout",
     "output_type": "stream",
     "text": [
      "Cross Validation Score: 0.28794642857142855\n",
      "Accuracy: 0.2911392405063291\n",
      "\n",
      "Kernel: poly\n"
     ]
    },
    {
     "name": "stderr",
     "output_type": "stream",
     "text": [
      "/opt/anaconda3/lib/python3.7/site-packages/sklearn/model_selection/_split.py:680: UserWarning: The least populated class in y has only 1 members, which is less than n_splits=5.\n",
      "  UserWarning,\n"
     ]
    },
    {
     "name": "stdout",
     "output_type": "stream",
     "text": [
      "Cross Validation Score: 0.3638888888888888\n",
      "Accuracy: 0.4050632911392405\n",
      "\n",
      "Kernel: sigmoid\n"
     ]
    },
    {
     "name": "stderr",
     "output_type": "stream",
     "text": [
      "/opt/anaconda3/lib/python3.7/site-packages/sklearn/model_selection/_split.py:680: UserWarning: The least populated class in y has only 1 members, which is less than n_splits=5.\n",
      "  UserWarning,\n"
     ]
    },
    {
     "name": "stdout",
     "output_type": "stream",
     "text": [
      "Cross Validation Score: 0.17718253968253966\n",
      "Accuracy: 0.1518987341772152\n",
      "\n"
     ]
    }
   ],
   "source": [
    "kernels = ['linear', 'rbf', 'poly', 'sigmoid']\n",
    "print(\"Accuracy for each kernel:\\n\")\n",
    "for kern in kernels:\n",
    "    model = SVC(kernel = kern, C = 1)\n",
    "    model.fit(X_train_m, y_train_m)\n",
    "    print(f\"Kernel: {kern}\")\n",
    "    print(\"Cross Validation Score:\", cross_val_score(model, X_train_m, y_train_m).mean())\n",
    "    print(f\"Accuracy: {model.score(X_test_m, y_test_m)}\\n\")"
   ]
  },
  {
   "cell_type": "code",
   "execution_count": 420,
   "metadata": {},
   "outputs": [
    {
     "name": "stdout",
     "output_type": "stream",
     "text": [
      "Polynomial Kernel\n",
      "Degree: 1\n",
      "Accuracy (Test Data): 0.45569620253164556\n",
      "Accuracy (Train Data): 0.8481012658227848\n",
      "\n",
      "Degree: 2\n",
      "Accuracy (Test Data): 0.4810126582278481\n",
      "Accuracy (Train Data): 0.9556962025316456\n",
      "\n",
      "Degree: 3\n",
      "Accuracy (Test Data): 0.45569620253164556\n",
      "Accuracy (Train Data): 0.9873417721518988\n",
      "\n",
      "Degree: 4\n",
      "Accuracy (Test Data): 0.45569620253164556\n",
      "Accuracy (Train Data): 0.9968354430379747\n",
      "\n",
      "Degree: 5\n",
      "Accuracy (Test Data): 0.43037974683544306\n",
      "Accuracy (Train Data): 1.0\n",
      "\n"
     ]
    }
   ],
   "source": [
    "print(\"Polynomial Kernel\")\n",
    "for i in range(1, 6):\n",
    "    model = SVC(kernel = 'poly', degree = i, C = 100)\n",
    "    model.fit(X_train_m, y_train_m)\n",
    "    print(f'Degree: {i}')\n",
    "    print(f'Accuracy (Test Data): {model.score(X_test_m, y_test_m)}')\n",
    "    print(f'Accuracy (Train Data): {model.score(X_train_m, y_train_m)}\\n')"
   ]
  },
  {
   "cell_type": "code",
   "execution_count": 421,
   "metadata": {},
   "outputs": [
    {
     "name": "stderr",
     "output_type": "stream",
     "text": [
      "/opt/anaconda3/lib/python3.7/site-packages/sklearn/model_selection/_split.py:680: UserWarning: The least populated class in y has only 1 members, which is less than n_splits=5.\n",
      "  UserWarning,\n"
     ]
    },
    {
     "name": "stdout",
     "output_type": "stream",
     "text": [
      "Result of grid search:\n",
      "{'C': 0.1, 'degree': 1, 'kernel': 'linear'}\n",
      "Accuracy of selected kernel: 0.4177215189873418\n",
      "\n",
      "The kernel that works best for the SVM classification of this dataset is: linear\n"
     ]
    }
   ],
   "source": [
    "param_grid = {'C':[0.1, 1, 100], 'kernel':['rbf', 'poly', 'sigmoid', 'linear'], 'degree':[1, 2, 3, 4, 5, 6]}\n",
    "\n",
    "grid = GridSearchCV(SVC(), param_grid)\n",
    "grid.fit(X_train_m, y_train_m)\n",
    "\n",
    "print(\"Result of grid search:\")\n",
    "print(grid.best_params_)\n",
    "print(f\"Accuracy of selected kernel: {grid.score(X_test_m, y_test_m)}\")\n",
    "print(f\"\\nThe kernel that works best for the SVM classification of this dataset is: {grid.best_params_['kernel']}\")"
   ]
  },
  {
   "cell_type": "code",
   "execution_count": 422,
   "metadata": {},
   "outputs": [
    {
     "name": "stdout",
     "output_type": "stream",
     "text": [
      "Accuracy (Test Data): 0.4177215189873418\n",
      "Accuracy (Train Data): 0.7911392405063291\n",
      "Cross Validation Score: 0.4178075396825397\n"
     ]
    },
    {
     "name": "stderr",
     "output_type": "stream",
     "text": [
      "/opt/anaconda3/lib/python3.7/site-packages/sklearn/model_selection/_split.py:680: UserWarning: The least populated class in y has only 1 members, which is less than n_splits=5.\n",
      "  UserWarning,\n"
     ]
    }
   ],
   "source": [
    "model = SVC(kernel = grid.best_params_['kernel'], degree = grid.best_params_['degree'], C = grid.best_params_['C'])\n",
    "model.fit(X_train_m, y_train_m)\n",
    "print(f'Accuracy (Test Data): {model.score(X_test_m, y_test_m)}')\n",
    "print(f'Accuracy (Train Data): {model.score(X_train_m, y_train_m)}')\n",
    "print(\"Cross Validation Score:\", cross_val_score(model, X_train_m, y_train_m).mean())\n",
    "accuracies_math[\"Support Vector Classification\"] = model.score(X_test_m, y_test_m)"
   ]
  },
  {
   "cell_type": "markdown",
   "metadata": {},
   "source": [
    "### Portuguese Data"
   ]
  },
  {
   "cell_type": "code",
   "execution_count": 423,
   "metadata": {},
   "outputs": [
    {
     "name": "stdout",
     "output_type": "stream",
     "text": [
      "Accuracy for each kernel:\n",
      "\n",
      "Kernel: linear\n"
     ]
    },
    {
     "name": "stderr",
     "output_type": "stream",
     "text": [
      "/opt/anaconda3/lib/python3.7/site-packages/sklearn/model_selection/_split.py:680: UserWarning: The least populated class in y has only 1 members, which is less than n_splits=5.\n",
      "  UserWarning,\n"
     ]
    },
    {
     "name": "stdout",
     "output_type": "stream",
     "text": [
      "Cross Validation Score: 0.3776325616131441\n",
      "Accuracy: 0.38461538461538464\n",
      "\n",
      "Kernel: rbf\n",
      "Cross Validation Score: 0.3159073935772965\n",
      "Accuracy: 0.24615384615384617\n",
      "\n"
     ]
    },
    {
     "name": "stderr",
     "output_type": "stream",
     "text": [
      "/opt/anaconda3/lib/python3.7/site-packages/sklearn/model_selection/_split.py:680: UserWarning: The least populated class in y has only 1 members, which is less than n_splits=5.\n",
      "  UserWarning,\n",
      "/opt/anaconda3/lib/python3.7/site-packages/sklearn/model_selection/_split.py:680: UserWarning: The least populated class in y has only 1 members, which is less than n_splits=5.\n",
      "  UserWarning,\n"
     ]
    },
    {
     "name": "stdout",
     "output_type": "stream",
     "text": [
      "Kernel: poly\n",
      "Cross Validation Score: 0.42387976101568337\n",
      "Accuracy: 0.36153846153846153\n",
      "\n",
      "Kernel: sigmoid\n",
      "Cross Validation Score: 0.15799103808812545\n",
      "Accuracy: 0.16923076923076924\n",
      "\n"
     ]
    },
    {
     "name": "stderr",
     "output_type": "stream",
     "text": [
      "/opt/anaconda3/lib/python3.7/site-packages/sklearn/model_selection/_split.py:680: UserWarning: The least populated class in y has only 1 members, which is less than n_splits=5.\n",
      "  UserWarning,\n"
     ]
    }
   ],
   "source": [
    "print(\"Accuracy for each kernel:\\n\")\n",
    "for kern in kernels:\n",
    "    model = SVC(kernel = kern, C = 1)\n",
    "    model.fit(X_train_p, y_train_p)\n",
    "    print(f\"Kernel: {kern}\")\n",
    "    print(\"Cross Validation Score:\", cross_val_score(model, X_train_p, y_train_p).mean())\n",
    "    print(f\"Accuracy: {model.score(X_test_p, y_test_p)}\\n\")"
   ]
  },
  {
   "cell_type": "code",
   "execution_count": 424,
   "metadata": {},
   "outputs": [
    {
     "name": "stdout",
     "output_type": "stream",
     "text": [
      "Polynomial Kernel\n",
      "Degree: 1\n",
      "Accuracy (Test Data): 0.36153846153846153\n",
      "Accuracy (Train Data): 0.7013487475915221\n",
      "\n",
      "Degree: 2\n",
      "Accuracy (Test Data): 0.35384615384615387\n",
      "Accuracy (Train Data): 0.8285163776493256\n",
      "\n",
      "Degree: 3\n",
      "Accuracy (Test Data): 0.4\n",
      "Accuracy (Train Data): 0.9325626204238922\n",
      "\n",
      "Degree: 4\n",
      "Accuracy (Test Data): 0.3769230769230769\n",
      "Accuracy (Train Data): 0.976878612716763\n",
      "\n",
      "Degree: 5\n",
      "Accuracy (Test Data): 0.34615384615384615\n",
      "Accuracy (Train Data): 0.9961464354527938\n",
      "\n"
     ]
    }
   ],
   "source": [
    "print(\"Polynomial Kernel\")\n",
    "for i in range(1, 6):\n",
    "    model = SVC(kernel = 'poly', degree = i, C = 100)\n",
    "    model.fit(X_train_p, y_train_p)\n",
    "    print(f'Degree: {i}')\n",
    "    print(f'Accuracy (Test Data): {model.score(X_test_p, y_test_p)}')\n",
    "    print(f'Accuracy (Train Data): {model.score(X_train_p, y_train_p)}\\n')"
   ]
  },
  {
   "cell_type": "code",
   "execution_count": 425,
   "metadata": {},
   "outputs": [
    {
     "name": "stderr",
     "output_type": "stream",
     "text": [
      "/opt/anaconda3/lib/python3.7/site-packages/sklearn/model_selection/_split.py:680: UserWarning: The least populated class in y has only 1 members, which is less than n_splits=5.\n",
      "  UserWarning,\n"
     ]
    },
    {
     "name": "stdout",
     "output_type": "stream",
     "text": [
      "Result of grid search:\n",
      "{'C': 1, 'degree': 5, 'kernel': 'poly'}\n",
      "Accuracy of selected kernel: 0.3923076923076923\n",
      "\n",
      "The kernel that works best for the SVM classification of this dataset is: poly\n"
     ]
    }
   ],
   "source": [
    "param_grid = {'C':[0.1, 1, 100], 'kernel':['rbf', 'poly', 'sigmoid', 'linear'], 'degree':[1, 2, 3, 4, 5, 6]}\n",
    "\n",
    "grid = GridSearchCV(SVC(), param_grid)\n",
    "grid.fit(X_train_p, y_train_p)\n",
    "\n",
    "print(\"Result of grid search:\")\n",
    "print(grid.best_params_)\n",
    "print(f\"Accuracy of selected kernel: {grid.score(X_test_p, y_test_p)}\")\n",
    "print(f\"\\nThe kernel that works best for the SVM classification of this dataset is: {grid.best_params_['kernel']}\")"
   ]
  },
  {
   "cell_type": "code",
   "execution_count": 426,
   "metadata": {},
   "outputs": [
    {
     "name": "stdout",
     "output_type": "stream",
     "text": [
      "Accuracy (Test Data): 0.3923076923076923\n",
      "Accuracy (Train Data): 0.6685934489402697\n",
      "Cross Validation Score: 0.45280059746079165\n"
     ]
    },
    {
     "name": "stderr",
     "output_type": "stream",
     "text": [
      "/opt/anaconda3/lib/python3.7/site-packages/sklearn/model_selection/_split.py:680: UserWarning: The least populated class in y has only 1 members, which is less than n_splits=5.\n",
      "  UserWarning,\n"
     ]
    }
   ],
   "source": [
    "model = SVC(kernel = grid.best_params_['kernel'], degree = grid.best_params_['degree'], C = grid.best_params_['C'])\n",
    "model.fit(X_train_p, y_train_p)\n",
    "print(f'Accuracy (Test Data): {model.score(X_test_p, y_test_p)}')\n",
    "print(f'Accuracy (Train Data): {model.score(X_train_p, y_train_p)}')\n",
    "print(\"Cross Validation Score:\", cross_val_score(model, X_train_p, y_train_p).mean())\n",
    "accuracies_port[\"Support Vector Classification\"] = model.score(X_test_p, y_test_p)"
   ]
  },
  {
   "cell_type": "markdown",
   "metadata": {},
   "source": [
    "## Naive-Bayes\n"
   ]
  },
  {
   "cell_type": "markdown",
   "metadata": {},
   "source": [
    "### Math Data"
   ]
  },
  {
   "cell_type": "code",
   "execution_count": 427,
   "metadata": {},
   "outputs": [
    {
     "name": "stdout",
     "output_type": "stream",
     "text": [
      "Accuracy Score: 0.27848101265822783\n",
      "Cross Validation Score: 0.23110119047619046\n"
     ]
    },
    {
     "name": "stderr",
     "output_type": "stream",
     "text": [
      "/opt/anaconda3/lib/python3.7/site-packages/sklearn/model_selection/_split.py:680: UserWarning: The least populated class in y has only 1 members, which is less than n_splits=5.\n",
      "  UserWarning,\n"
     ]
    }
   ],
   "source": [
    "nb_ml = MultinomialNB()\n",
    "nb_ml.fit(X_train_m, y_train_m)\n",
    "y_pred_class_ml = nb_ml.predict(X_test_m)\n",
    "print(f\"Accuracy Score: {metrics.accuracy_score(y_test_m,y_pred_class_ml)}\")\n",
    "print(\"Cross Validation Score:\", cross_val_score(nb_ml, X_train_m, y_train_m).mean())\n",
    "accuracies_math[\"Multinomial NB\"] = metrics.accuracy_score(y_test_m,y_pred_class_ml)"
   ]
  },
  {
   "cell_type": "markdown",
   "metadata": {},
   "source": [
    "### Portuguese Data"
   ]
  },
  {
   "cell_type": "code",
   "execution_count": 428,
   "metadata": {},
   "outputs": [
    {
     "name": "stdout",
     "output_type": "stream",
     "text": [
      "Accuracy Score: 0.16923076923076924\n"
     ]
    },
    {
     "name": "stderr",
     "output_type": "stream",
     "text": [
      "/opt/anaconda3/lib/python3.7/site-packages/sklearn/model_selection/_split.py:680: UserWarning: The least populated class in y has only 1 members, which is less than n_splits=5.\n",
      "  UserWarning,\n"
     ]
    },
    {
     "name": "stdout",
     "output_type": "stream",
     "text": [
      "Cross Validation Score: 0.23493278566094097\n"
     ]
    }
   ],
   "source": [
    "nb_ml = MultinomialNB()\n",
    "nb_ml.fit(X_train_p, y_train_p)\n",
    "y_pred_class_ml = nb_ml.predict(X_test_p)\n",
    "print(f\"Accuracy Score: {metrics.accuracy_score(y_test_p,y_pred_class_ml)}\")\n",
    "print(\"Cross Validation Score:\", cross_val_score(nb_ml, X_train_p, y_train_p).mean())\n",
    "accuracies_port[\"Multinomial NB\"] = metrics.accuracy_score(y_test_p, y_pred_class_ml)"
   ]
  },
  {
   "cell_type": "markdown",
   "metadata": {},
   "source": [
    "## Logistic Regression"
   ]
  },
  {
   "cell_type": "markdown",
   "metadata": {},
   "source": [
    "### Math Data"
   ]
  },
  {
   "cell_type": "code",
   "execution_count": 429,
   "metadata": {},
   "outputs": [
    {
     "name": "stdout",
     "output_type": "stream",
     "text": [
      "Accuracy Score: 0.4050632911392405\n"
     ]
    },
    {
     "name": "stderr",
     "output_type": "stream",
     "text": [
      "/opt/anaconda3/lib/python3.7/site-packages/sklearn/model_selection/_split.py:680: UserWarning: The least populated class in y has only 1 members, which is less than n_splits=5.\n",
      "  UserWarning,\n"
     ]
    },
    {
     "name": "stdout",
     "output_type": "stream",
     "text": [
      "Cross Validation Score: 0.354563492063492\n"
     ]
    }
   ],
   "source": [
    "logreg = LogisticRegression(solver = 'newton-cg')\n",
    "logreg.fit(X_train_m, y_train_m)\n",
    "print(\"Accuracy Score:\", logreg.score(X_test_m, y_test_m))\n",
    "print(\"Cross Validation Score:\", cross_val_score(logreg, X_train_m, y_train_m).mean())\n",
    "accuracies_math[\"Logistic Regression\"] = logreg.score(X_test_m, y_test_m)"
   ]
  },
  {
   "cell_type": "markdown",
   "metadata": {},
   "source": [
    "### Portuguese Data"
   ]
  },
  {
   "cell_type": "code",
   "execution_count": 430,
   "metadata": {},
   "outputs": [
    {
     "name": "stdout",
     "output_type": "stream",
     "text": [
      "Accuracy Score: 0.3153846153846154\n"
     ]
    },
    {
     "name": "stderr",
     "output_type": "stream",
     "text": [
      "/opt/anaconda3/lib/python3.7/site-packages/sklearn/model_selection/_split.py:680: UserWarning: The least populated class in y has only 1 members, which is less than n_splits=5.\n",
      "  UserWarning,\n"
     ]
    },
    {
     "name": "stdout",
     "output_type": "stream",
     "text": [
      "Cross Validation Score: 0.36796116504854376\n"
     ]
    }
   ],
   "source": [
    "logreg.fit(X_train_p, y_train_p)\n",
    "print(\"Accuracy Score:\", logreg.score(X_test_p, y_test_p))\n",
    "print(\"Cross Validation Score:\", cross_val_score(logreg, X_train_p, y_train_p).mean())\n",
    "accuracies_port[\"Logistic Regression\"] = logreg.score(X_test_p, y_test_p)"
   ]
  },
  {
   "cell_type": "markdown",
   "metadata": {},
   "source": [
    "# Analysis"
   ]
  },
  {
   "cell_type": "markdown",
   "metadata": {},
   "source": [
    "## Comparison between different models"
   ]
  },
  {
   "cell_type": "code",
   "execution_count": 431,
   "metadata": {},
   "outputs": [],
   "source": [
    "accuracies_math_df = pd.DataFrame({\"Model Used\": list(accuracies_math.keys()), \"Accuracy\": [i*100 for i in list(accuracies_math.values())]})\n",
    "accuracies_port_df = pd.DataFrame({\"Model Used\": list(accuracies_port.keys()), \"Accuracy\": [i*100 for i in list(accuracies_port.values())]})"
   ]
  },
  {
   "cell_type": "code",
   "execution_count": 432,
   "metadata": {},
   "outputs": [],
   "source": [
    "accuracies_math_df.sort_values('Accuracy', inplace=True)\n",
    "accuracies_math_df.reset_index(inplace=True)\n",
    "accuracies_port_df.sort_values('Accuracy', inplace=True)\n",
    "accuracies_port_df.reset_index(inplace=True)"
   ]
  },
  {
   "cell_type": "code",
   "execution_count": 433,
   "metadata": {},
   "outputs": [
    {
     "data": {
      "text/plain": [
       "Text(0.5, 1.0, 'Accuracy of Different Models on Math Dataset')"
      ]
     },
     "execution_count": 433,
     "metadata": {},
     "output_type": "execute_result"
    },
    {
     "data": {
      "image/png": "[encoded data removed]",
      "text/plain": [
       "<Figure size 1440x432 with 1 Axes>"
      ]
     },
     "metadata": {
      "needs_background": "light"
     },
     "output_type": "display_data"
    }
   ],
   "source": [
    "plt.figure(figsize=(20, 6))\n",
    "splot = sns.barplot(x = \"Model Used\",y = \"Accuracy\", data = accuracies_math_df)\n",
    "for p in splot.patches:\n",
    "    splot.annotate(format(p.get_height(), '.1f'), \n",
    "                   (p.get_x() + p.get_width() / 2., p.get_height()), \n",
    "                   ha = 'center', va = 'center', \n",
    "                   xytext = (0, 9), \n",
    "                   textcoords = 'offset points')\n",
    "plt.xticks(accuracies_math_df.index, rotation=60, horizontalalignment='right', fontsize=12)\n",
    "plt.xlabel(\"Model Used\", size=18)\n",
    "plt.ylabel(\"Accuracy\", size=18)\n",
    "plt.title(\"Accuracy of Different Models on Math Dataset\", fontdict={'size':22})"
   ]
  },
  {
   "cell_type": "code",
   "execution_count": 434,
   "metadata": {},
   "outputs": [
    {
     "data": {
      "text/plain": [
       "Text(0.5, 1.0, 'Accuracy of Different Models on Portuguese Dataset')"
      ]
     },
     "execution_count": 434,
     "metadata": {},
     "output_type": "execute_result"
    },
    {
     "data": {
      "image/png": "[encoded data removed]",
      "text/plain": [
       "<Figure size 1440x432 with 1 Axes>"
      ]
     },
     "metadata": {
      "needs_background": "light"
     },
     "output_type": "display_data"
    }
   ],
   "source": [
    "plt.figure(figsize=(20, 6))\n",
    "splot = sns.barplot(x = \"Model Used\",y = \"Accuracy\", data = accuracies_port_df)\n",
    "for p in splot.patches:\n",
    "    splot.annotate(format(p.get_height(), '.1f'), \n",
    "                   (p.get_x() + p.get_width() / 2., p.get_height()), \n",
    "                   ha = 'center', va = 'center', \n",
    "                   xytext = (0, 9), \n",
    "                   textcoords = 'offset points')\n",
    "plt.xticks(accuracies_port_df.index, rotation=60, horizontalalignment='right', fontsize=12)\n",
    "plt.xlabel(\"Model Used\", size=18)\n",
    "plt.ylabel(\"Accuracy\", size=18)\n",
    "plt.title(\"Accuracy of Different Models on Portuguese Dataset\", fontdict={'size':22})"
   ]
  },
  {
   "cell_type": "markdown",
   "metadata": {},
   "source": [
    "## Inferences"
   ]
  },
  {
   "cell_type": "markdown",
   "metadata": {},
   "source": [
    "### Based on the above graphs following inferences can be made\n",
    "    - It is clearly visible that regression is far more suitable for this dataset than classification if the data isn't grouped.\n",
    "    - For Math and Portuguese dataset, Support Vector Regression shows to be the best model."
   ]
  },
  {
   "cell_type": "markdown",
   "metadata": {},
   "source": [
    "### Now, lets look at the weightage of each feature for the regression models for both the datasets"
   ]
  },
  {
   "cell_type": "code",
   "execution_count": 435,
   "metadata": {},
   "outputs": [],
   "source": [
    "linreg_port_coef_df = pd.DataFrame({\"Features\": list(linreg_port_coef.keys()), \"Weights\": list(linreg_port_coef.values())})\n",
    "linreg_math_coef_df = pd.DataFrame({\"Features\": list(linreg_math_coef.keys()), \"Weights\": list(linreg_math_coef.values())})\n",
    "\n",
    "linreg_port_coef_df['colors'] = ['red' if x < 0 else 'green' for x in linreg_port_coef_df['Weights']]\n",
    "linreg_math_coef_df['colors'] = ['red' if x < 0 else 'green' for x in linreg_math_coef_df['Weights']]"
   ]
  },
  {
   "cell_type": "code",
   "execution_count": 436,
   "metadata": {},
   "outputs": [],
   "source": [
    "linreg_port_coef_df.sort_values('Weights', inplace=True)\n",
    "linreg_port_coef_df.reset_index(inplace=True)\n",
    "linreg_math_coef_df.sort_values('Weights', inplace=True)\n",
    "linreg_math_coef_df.reset_index(inplace=True)"
   ]
  },
  {
   "cell_type": "code",
   "execution_count": 437,
   "metadata": {},
   "outputs": [
    {
     "data": {
      "image/png": "[encoded data removed]",
      "text/plain": [
       "<Figure size 1120x800 with 1 Axes>"
      ]
     },
     "metadata": {
      "needs_background": "light"
     },
     "output_type": "display_data"
    }
   ],
   "source": [
    "#Here, linear regression feature weights have been considered as the score difference between SVR and Linear Regression was negligible\n",
    "\n",
    "plt.figure(figsize=(14,10), dpi= 80)\n",
    "plt.hlines(y = linreg_port_coef_df.index, xmin=0, xmax=linreg_port_coef_df.Weights, color=linreg_port_coef_df.colors, alpha=0.4, linewidth=5)\n",
    "\n",
    "\n",
    "plt.gca().set(ylabel='$Features$', xlabel='$Weights$')\n",
    "plt.yticks(linreg_port_coef_df.index, linreg_port_coef_df.Features, fontsize=12)\n",
    "plt.title('Feature Weights for Linear Regression for Math Dataset', fontdict={'size':20})\n",
    "plt.grid(linestyle='--', alpha=0.5)\n",
    "plt.show()"
   ]
  },
  {
   "cell_type": "code",
   "execution_count": 438,
   "metadata": {},
   "outputs": [
    {
     "data": {
      "image/png": "[encoded data removed]",
      "text/plain": [
       "<Figure size 1120x800 with 1 Axes>"
      ]
     },
     "metadata": {
      "needs_background": "light"
     },
     "output_type": "display_data"
    }
   ],
   "source": [
    "plt.figure(figsize=(14,10), dpi= 80)\n",
    "plt.hlines(y = linreg_port_coef_df.index, xmin=0, xmax=linreg_port_coef_df.Weights, color=linreg_port_coef_df.colors, alpha=0.4, linewidth=5)\n",
    "\n",
    "\n",
    "plt.gca().set(ylabel='$Features$', xlabel='$Weights$')\n",
    "plt.yticks(linreg_port_coef_df.index, linreg_port_coef_df.Features, fontsize=12)\n",
    "plt.title('Feature Weights for Linear Regression for Portuguese Dataset', fontdict={'size':20})\n",
    "plt.grid(linestyle='--', alpha=0.5)\n",
    "plt.show()"
   ]
  },
  {
   "cell_type": "markdown",
   "metadata": {},
   "source": [
    "## Inferences"
   ]
  },
  {
   "cell_type": "markdown",
   "metadata": {},
   "source": [
    "### Looking at the above graphs, following inferences can be made:\n",
    "    - The wish to pursue higher education, the type of area the students live in, and their second period grades have the most positive effect on their final grade\n",
    "    - Whereas, their number of failures, whether they have paid for extra classes, and their parents' cohabitation status has the most negative impact on their final grade"
   ]
  },
  {
   "cell_type": "markdown",
   "metadata": {
    "id": "2Xn182lze-ZL"
   },
   "source": [
    "# Performance of Models on grouping the target variable"
   ]
  },
  {
   "cell_type": "markdown",
   "metadata": {},
   "source": [
    "## Grouping of target feature"
   ]
  },
  {
   "cell_type": "markdown",
   "metadata": {},
   "source": [
    "### Math Data"
   ]
  },
  {
   "cell_type": "code",
   "execution_count": 439,
   "metadata": {
    "id": "ssDNTD1KEhJY"
   },
   "outputs": [],
   "source": [
    "math['G3C'] = 'na'\n",
    "math.loc[(math.G3 >= 16) & (math.G3 <= 20), 'G3C'] = 'excellent'\n",
    "math.loc[(math.G3 >= 11) & (math.G3 <= 15), 'G3C'] = 'good'\n",
    "math.loc[(math.G3 >= 6) & (math.G3 <= 10), 'G3C'] = 'fair'\n",
    "math.loc[(math.G3 >= 0) & (math.G3 <= 5), 'G3C'] = 'poor'"
   ]
  },
  {
   "cell_type": "code",
   "execution_count": 440,
   "metadata": {
    "id": "yTnnOUNlEhJY"
   },
   "outputs": [],
   "source": [
    "math.drop('G3',axis='columns', inplace=True)"
   ]
  },
  {
   "cell_type": "code",
   "execution_count": 441,
   "metadata": {
    "colab": {
     "base_uri": "https://localhost:8080/"
    },
    "id": "f7gq21VTEhJY",
    "outputId": "049f9f03-a720-4ac3-f67b-400fd7daf6fd"
   },
   "outputs": [
    {
     "data": {
      "text/plain": [
       "Index(['school', 'sex', 'age', 'address', 'famsize', 'Pstatus', 'Medu', 'Fedu',\n",
       "       'Mjob', 'Fjob', 'reason', 'guardian', 'traveltime', 'studytime',\n",
       "       'failures', 'schoolsup', 'famsup', 'paid', 'activities', 'nursery',\n",
       "       'higher', 'internet', 'romantic', 'famrel', 'freetime', 'goout', 'Dalc',\n",
       "       'Walc', 'health', 'absences', 'G1', 'G2', 'G3C'],\n",
       "      dtype='object')"
      ]
     },
     "execution_count": 441,
     "metadata": {},
     "output_type": "execute_result"
    }
   ],
   "source": [
    "math.columns"
   ]
  },
  {
   "cell_type": "markdown",
   "metadata": {},
   "source": [
    "### Portuguese Data"
   ]
  },
  {
   "cell_type": "code",
   "execution_count": 442,
   "metadata": {
    "id": "6qmGTdoSEhJY"
   },
   "outputs": [],
   "source": [
    "port['G3C'] = 'na'\n",
    "port.loc[(port.G3 >= 16) & (port.G3 <= 20), 'G3C'] = 'excellent'\n",
    "port.loc[(port.G3 >= 11) & (port.G3 <= 15), 'G3C'] = 'good'\n",
    "port.loc[(port.G3 >= 6) & (port.G3 <= 10), 'G3C'] = 'fair'\n",
    "port.loc[(port.G3 >= 0) & (port.G3 <= 5), 'G3C'] = 'poor'"
   ]
  },
  {
   "cell_type": "code",
   "execution_count": 443,
   "metadata": {
    "id": "P_xTUTufGP44"
   },
   "outputs": [],
   "source": [
    "port.drop('G3',axis='columns', inplace=True)"
   ]
  },
  {
   "cell_type": "code",
   "execution_count": 444,
   "metadata": {
    "colab": {
     "base_uri": "https://localhost:8080/"
    },
    "id": "IdlZeLMXGR3a",
    "outputId": "9ba21018-86ab-4462-f8d0-5e7cdf91d3f4"
   },
   "outputs": [
    {
     "data": {
      "text/plain": [
       "Index(['school', 'sex', 'age', 'address', 'famsize', 'Pstatus', 'Medu', 'Fedu',\n",
       "       'Mjob', 'Fjob', 'reason', 'guardian', 'traveltime', 'studytime',\n",
       "       'failures', 'schoolsup', 'famsup', 'paid', 'activities', 'nursery',\n",
       "       'higher', 'internet', 'romantic', 'famrel', 'freetime', 'goout', 'Dalc',\n",
       "       'Walc', 'health', 'absences', 'G1', 'G2', 'G3C'],\n",
       "      dtype='object')"
      ]
     },
     "execution_count": 444,
     "metadata": {},
     "output_type": "execute_result"
    }
   ],
   "source": [
    "port.columns"
   ]
  },
  {
   "cell_type": "markdown",
   "metadata": {},
   "source": [
    "## Data Encoding and Visualizations"
   ]
  },
  {
   "cell_type": "code",
   "execution_count": 445,
   "metadata": {
    "id": "ggYtf1d9GUBo"
   },
   "outputs": [],
   "source": [
    "#Using label encoder for conversion of object type attributes\n",
    "encoded_math_grp = math.copy()\n",
    "encoded_port_grp = port.copy()\n",
    "replace_dict_2 = {'yes': 1, 'no':0, 'other': 0, 'at_home': 1, 'services': 2, 'health': 3, 'teacher': 4, 'excellent': 4, 'good': 3, 'fair': 2, 'poor': 1}"
   ]
  },
  {
   "cell_type": "code",
   "execution_count": 446,
   "metadata": {
    "colab": {
     "base_uri": "https://localhost:8080/",
     "height": 485
    },
    "id": "4fY1OnNUYw4l",
    "outputId": "9806ec25-6f44-4849-d83b-4d7904d7e07d"
   },
   "outputs": [
    {
     "data": {
      "text/plain": [
       "Text(0, 0.5, 'Number of Student')"
      ]
     },
     "execution_count": 446,
     "metadata": {},
     "output_type": "execute_result"
    },
    {
     "data": {
      "image/png": "[encoded data removed]",
      "text/plain": [
       "<Figure size 576x432 with 1 Axes>"
      ]
     },
     "metadata": {
      "needs_background": "light"
     },
     "output_type": "display_data"
    }
   ],
   "source": [
    "# Final Grade Countplot\n",
    "plt.figure(figsize=(8,6))\n",
    "sns.countplot(encoded_math_grp.G3C, order=[\"poor\",\"fair\",\"good\", \"excellent\"], palette='Set1')\n",
    "plt.title('Final Grade for Math Students',fontsize=20)\n",
    "plt.xlabel('G3C', fontsize=16)\n",
    "plt.ylabel('Number of Student', fontsize=16)"
   ]
  },
  {
   "cell_type": "code",
   "execution_count": 447,
   "metadata": {
    "colab": {
     "base_uri": "https://localhost:8080/"
    },
    "id": "FrFuagKbM-If",
    "outputId": "aa02631e-80af-48e3-e999-fd82ed1c2031"
   },
   "outputs": [
    {
     "name": "stdout",
     "output_type": "stream",
     "text": [
      "Object type attributes before encoding:\n",
      "\n",
      "school     :{'GP', 'MS'}\n",
      "sex        :{'F', 'M'}\n",
      "address    :{'U', 'R'}\n",
      "famsize    :{'GT3', 'LE3'}\n",
      "Pstatus    :{'T', 'A'}\n",
      "Mjob       :{'teacher', 'at_home', 'other', 'services', 'health'}\n",
      "Fjob       :{'teacher', 'at_home', 'other', 'services', 'health'}\n",
      "reason     :{'other', 'reputation', 'course', 'home'}\n",
      "guardian   :{'mother', 'other', 'father'}\n",
      "schoolsup  :{'yes', 'no'}\n",
      "famsup     :{'no', 'yes'}\n",
      "paid       :{'no', 'yes'}\n",
      "activities :{'no', 'yes'}\n",
      "nursery    :{'yes', 'no'}\n",
      "higher     :{'yes', 'no'}\n",
      "internet   :{'no', 'yes'}\n",
      "romantic   :{'no', 'yes'}\n",
      "G3C        :{'excellent', 'good', 'fair', 'poor'}\n",
      "\n",
      "\n",
      "Object type attributes after encoding:\n",
      "\n",
      "school     :{0, 1}\n",
      "sex        :{0, 1}\n",
      "address    :{0, 1}\n",
      "famsize    :{0, 1}\n",
      "Pstatus    :{0, 1}\n",
      "reason     :{0, 1, 2, 3}\n",
      "guardian   :{0, 1, 2}\n"
     ]
    }
   ],
   "source": [
    "print(\"Object type attributes before encoding:\\n\")\n",
    "for attr in encoded_math_grp.head():\n",
    "    if encoded_math_grp[attr].dtype == object:\n",
    "        print(f\"{attr.ljust(11)}:{set(encoded_math_grp[attr])}\")\n",
    "\n",
    "#Manually encoding for uniformity across attributes\n",
    "encoded_math_grp.iloc[:, 15:23] = encoded_math_grp.iloc[:, 15:23].replace(replace_dict_2).astype('int')\n",
    "encoded_math_grp.iloc[:, 8:10] = encoded_math_grp.iloc[:, 8:10].replace(replace_dict_2).astype('int')\n",
    "encoded_math_grp.iloc[:, -1] = encoded_math_grp.iloc[:, -1].replace(replace_dict_2).astype('int')\n",
    "        \n",
    "print(\"\\n\\nObject type attributes after encoding:\\n\")\n",
    "for attr in encoded_math_grp.head():\n",
    "    if encoded_math_grp[attr].dtype == object:\n",
    "        encoded_math_grp[attr] = l_encoder.fit_transform(encoded_math_grp[attr])\n",
    "        print(f\"{attr.ljust(11)}:{set(encoded_math_grp[attr])}\")\n",
    "\n"
   ]
  },
  {
   "cell_type": "code",
   "execution_count": 448,
   "metadata": {
    "colab": {
     "base_uri": "https://localhost:8080/",
     "height": 485
    },
    "id": "Mr_KidS2Y-8-",
    "outputId": "5e50f6ec-af56-4508-c859-1d34362d26b6"
   },
   "outputs": [
    {
     "data": {
      "text/plain": [
       "Text(0, 0.5, 'Number of Student')"
      ]
     },
     "execution_count": 448,
     "metadata": {},
     "output_type": "execute_result"
    },
    {
     "data": {
      "image/png": "[encoded data removed]",
      "text/plain": [
       "<Figure size 576x432 with 1 Axes>"
      ]
     },
     "metadata": {
      "needs_background": "light"
     },
     "output_type": "display_data"
    }
   ],
   "source": [
    "# Final Grade Countplot\n",
    "plt.figure(figsize=(8,6))\n",
    "sns.countplot(encoded_port_grp.G3C, order=[\"poor\",\"fair\",\"good\", \"excellent\"], palette='Set1')\n",
    "plt.title('Final Grade for Portuguese Students',fontsize=20)\n",
    "plt.xlabel('G3C', fontsize=16)\n",
    "plt.ylabel('Number of Student', fontsize=16)"
   ]
  },
  {
   "cell_type": "code",
   "execution_count": 449,
   "metadata": {
    "colab": {
     "base_uri": "https://localhost:8080/"
    },
    "id": "fTlBEr9YYhB1",
    "outputId": "42f67c29-f5ae-4f11-91c1-ad31d1ec6751"
   },
   "outputs": [
    {
     "name": "stdout",
     "output_type": "stream",
     "text": [
      "Object type attributes before encoding:\n",
      "\n",
      "school     :{'GP', 'MS'}\n",
      "sex        :{'F', 'M'}\n",
      "address    :{'U', 'R'}\n",
      "famsize    :{'GT3', 'LE3'}\n",
      "Pstatus    :{'T', 'A'}\n",
      "Mjob       :{'teacher', 'at_home', 'other', 'services', 'health'}\n",
      "Fjob       :{'teacher', 'at_home', 'other', 'services', 'health'}\n",
      "reason     :{'other', 'reputation', 'course', 'home'}\n",
      "guardian   :{'mother', 'other', 'father'}\n",
      "schoolsup  :{'yes', 'no'}\n",
      "famsup     :{'no', 'yes'}\n",
      "paid       :{'no', 'yes'}\n",
      "activities :{'no', 'yes'}\n",
      "nursery    :{'yes', 'no'}\n",
      "higher     :{'yes', 'no'}\n",
      "internet   :{'no', 'yes'}\n",
      "romantic   :{'no', 'yes'}\n",
      "G3C        :{'good', 'excellent', 'fair', 'poor'}\n",
      "\n",
      "\n",
      "Object type attributes after encoding:\n",
      "\n",
      "school     :{0, 1}\n",
      "sex        :{0, 1}\n",
      "address    :{0, 1}\n",
      "famsize    :{0, 1}\n",
      "Pstatus    :{0, 1}\n",
      "reason     :{0, 1, 2, 3}\n",
      "guardian   :{0, 1, 2}\n"
     ]
    }
   ],
   "source": [
    "print(\"Object type attributes before encoding:\\n\")\n",
    "for attr in encoded_port_grp.head():\n",
    "    if encoded_port_grp[attr].dtype == object:\n",
    "        print(f\"{attr.ljust(11)}:{set(encoded_port_grp[attr])}\")\n",
    "\n",
    "#Manually encoding for uniformity across attributes\n",
    "encoded_port_grp.iloc[:, 15:23] = encoded_port_grp.iloc[:, 15:23].replace(replace_dict_2).astype('int')\n",
    "encoded_port_grp.iloc[:, 8:10] = encoded_port_grp.iloc[:, 8:10].replace(replace_dict_2).astype('int')\n",
    "encoded_port_grp.iloc[:, -1] = encoded_port_grp.iloc[:, -1].replace(replace_dict_2).astype('int')\n",
    "        \n",
    "print(\"\\n\\nObject type attributes after encoding:\\n\")\n",
    "for attr in encoded_port_grp.head():\n",
    "    if encoded_port_grp[attr].dtype == object:\n",
    "        encoded_port_grp[attr] = l_encoder.fit_transform(encoded_port_grp[attr])\n",
    "        print(f\"{attr.ljust(11)}:{set(encoded_port_grp[attr])}\")\n",
    "\n"
   ]
  },
  {
   "cell_type": "code",
   "execution_count": 450,
   "metadata": {
    "colab": {
     "base_uri": "https://localhost:8080/",
     "height": 691
    },
    "id": "5bwcYc_62oSf",
    "outputId": "8c52403a-f676-4192-b449-42a851a81439"
   },
   "outputs": [
    {
     "data": {
      "image/png": "[encoded data removed]",
      "text/plain": [
       "<Figure size 432x288 with 1 Axes>"
      ]
     },
     "metadata": {
      "needs_background": "light"
     },
     "output_type": "display_data"
    },
    {
     "data": {
      "image/png": "[encoded data removed]",
      "text/plain": [
       "<Figure size 432x288 with 1 Axes>"
      ]
     },
     "metadata": {
      "needs_background": "light"
     },
     "output_type": "display_data"
    }
   ],
   "source": [
    "#relation of romantic attribute with their G3 scores\n",
    "perc = (lambda col: col/col.sum())\n",
    "index = ['poor','fair','good','excellent']\n",
    "\n",
    "romance_tab1 = pd.crosstab(index=math.G3C, columns=math.romantic)\n",
    "romance_perc_math = romance_tab1.apply(perc).reindex(index)\n",
    "romance_perc_math.plot.bar(colormap=\"PiYG_r\", fontsize=14,edgecolor = \"black\")\n",
    "plt.title('Romantic Status Maths', fontsize=14)\n",
    "plt.ylabel('Percentage of Student Counts ', fontsize=14)\n",
    "plt.xlabel('Final Grade', fontsize=14)\n",
    "plt.show()\n",
    "\n",
    "romance_tab2 = pd.crosstab(index=port.G3C, columns=port.romantic)\n",
    "romance_perc_port = romance_tab2.apply(perc).reindex(index)\n",
    "romance_perc_port.plot.bar(colormap=\"OrRd\", fontsize=14,edgecolor = \"black\")\n",
    "plt.title('Romantic Status Portuguese', fontsize=14)\n",
    "plt.ylabel('Percentage of Student Counts ', fontsize=14)\n",
    "plt.xlabel('Final Grade', fontsize=14)\n",
    "plt.show()"
   ]
  },
  {
   "cell_type": "code",
   "execution_count": 451,
   "metadata": {
    "colab": {
     "base_uri": "https://localhost:8080/",
     "height": 691
    },
    "id": "dKzRzOhs8DJ3",
    "outputId": "9f167a42-6363-4695-e309-fb1eb7aa9c0b"
   },
   "outputs": [
    {
     "data": {
      "image/png": "[encoded data removed]",
      "text/plain": [
       "<Figure size 432x288 with 1 Axes>"
      ]
     },
     "metadata": {
      "needs_background": "light"
     },
     "output_type": "display_data"
    },
    {
     "data": {
      "image/png": "[encoded data removed]",
      "text/plain": [
       "<Figure size 432x288 with 1 Axes>"
      ]
     },
     "metadata": {
      "needs_background": "light"
     },
     "output_type": "display_data"
    }
   ],
   "source": [
    "index = ['poor','fair','good','excellent']\n",
    "perc = (lambda col: col/col.sum())\n",
    "famrel_tab1 = pd.crosstab(index=math.G3C, columns=math.famrel)\n",
    "famrel_math = famrel_tab1.apply(perc).reindex(index)\n",
    "famrel_math.plot.bar(colormap=\"Purples\", fontsize=14,edgecolor = \"black\")\n",
    "plt.title('Family Realtions Maths', fontsize=14)\n",
    "plt.ylabel('Percentage of Student Counts ', fontsize=14)\n",
    "plt.xlabel('Final Grade', fontsize=14)\n",
    "plt.show()\n",
    "\n",
    "famrel_tab2 = pd.crosstab(index=port.G3C, columns=port.famrel)\n",
    "famrel_port = famrel_tab2.apply(perc).reindex(index)\n",
    "famrel_port.plot.bar(colormap=\"Oranges\", fontsize=14,edgecolor = \"black\")\n",
    "plt.title('Family Relations Portguese', fontsize=14)\n",
    "plt.ylabel('Percentage of Student Counts ', fontsize=14)\n",
    "plt.xlabel('Final Grade', fontsize=14)\n",
    "plt.show()"
   ]
  },
  {
   "cell_type": "code",
   "execution_count": 452,
   "metadata": {
    "colab": {
     "base_uri": "https://localhost:8080/",
     "height": 691
    },
    "id": "za7567co-7NV",
    "outputId": "ed1e182a-c686-4525-e315-9cef90b159dc"
   },
   "outputs": [
    {
     "data": {
      "image/png": "[encoded data removed]",
      "text/plain": [
       "<Figure size 432x288 with 1 Axes>"
      ]
     },
     "metadata": {
      "needs_background": "light"
     },
     "output_type": "display_data"
    },
    {
     "data": {
      "image/png": "[encoded data removed]",
      "text/plain": [
       "<Figure size 432x288 with 1 Axes>"
      ]
     },
     "metadata": {
      "needs_background": "light"
     },
     "output_type": "display_data"
    }
   ],
   "source": [
    "index = ['poor','fair','good','excellent']\n",
    "perc = (lambda col: col/col.sum())\n",
    "\n",
    "freetime_tab1 = pd.crosstab(index=math.G3C, columns=math.freetime)\n",
    "freetime_math = freetime_tab1.apply(perc).reindex(index)\n",
    "freetime_math.plot.bar(colormap=\"Greens\", fontsize=14,edgecolor = \"black\")\n",
    "plt.title('Freetime Maths', fontsize=14)\n",
    "plt.ylabel('Percentage of Student Counts ', fontsize=14)\n",
    "plt.xlabel('Final Grade', fontsize=14)\n",
    "plt.show()\n",
    "\n",
    "freetime_tab2 = pd.crosstab(index=port.G3C, columns=port.freetime)\n",
    "freetime_port = freetime_tab2.apply(perc).reindex(index)\n",
    "freetime_port.plot.bar(colormap=\"Reds\", fontsize=14,edgecolor = \"black\")\n",
    "plt.title('Freetime Portguese', fontsize=14)\n",
    "plt.ylabel('Percentage of Student Counts ', fontsize=14)\n",
    "plt.xlabel('Final Grade', fontsize=14)\n",
    "plt.show()"
   ]
  },
  {
   "cell_type": "code",
   "execution_count": 453,
   "metadata": {
    "colab": {
     "base_uri": "https://localhost:8080/",
     "height": 691
    },
    "id": "GnVUspjpA7F7",
    "outputId": "fa877b4e-ab29-45ca-d8f8-8ea74587cf76"
   },
   "outputs": [
    {
     "data": {
      "image/png": "[encoded data removed]",
      "text/plain": [
       "<Figure size 432x288 with 1 Axes>"
      ]
     },
     "metadata": {
      "needs_background": "light"
     },
     "output_type": "display_data"
    },
    {
     "data": {
      "image/png": "[encoded data removed]",
      "text/plain": [
       "<Figure size 432x288 with 1 Axes>"
      ]
     },
     "metadata": {
      "needs_background": "light"
     },
     "output_type": "display_data"
    }
   ],
   "source": [
    "index = ['poor','fair','good','excellent']\n",
    "perc = (lambda col: col/col.sum())\n",
    "\n",
    "internet_tab1 = pd.crosstab(index=math.G3C, columns=math.internet)\n",
    "internet_math = internet_tab1.apply(perc).reindex(index)\n",
    "internet_math.plot.bar(colormap=\"BuGn\", fontsize=14,edgecolor = \"black\")\n",
    "plt.title('Internet Maths', fontsize=14)\n",
    "plt.ylabel('Percentage of Student Counts ', fontsize=14)\n",
    "plt.xlabel('Final Grade', fontsize=14)\n",
    "plt.show()\n",
    "\n",
    "internet_tab2 = pd.crosstab(index=port.G3C, columns=port.internet)\n",
    "internet_port = internet_tab2.apply(perc).reindex(index)\n",
    "internet_port.plot.bar(colormap=\"BuPu\", fontsize=14,edgecolor = \"black\")\n",
    "plt.title('Internet Portguese', fontsize=14)\n",
    "plt.ylabel('Percentage of Student Counts ', fontsize=14)\n",
    "plt.xlabel('Final Grade', fontsize=14)\n",
    "plt.show()"
   ]
  },
  {
   "cell_type": "code",
   "execution_count": 454,
   "metadata": {
    "id": "Zig-vkpjam-r"
   },
   "outputs": [],
   "source": [
    "X_math = encoded_math_grp.iloc[:, :-1]\n",
    "y_math = encoded_math_grp.iloc[:, -1]\n",
    "X_train_m, X_test_m, y_train_m, y_test_m = train_test_split(X_math, y_math, test_size = 0.2)"
   ]
  },
  {
   "cell_type": "code",
   "execution_count": 455,
   "metadata": {
    "id": "qvJXKZOtb7fL"
   },
   "outputs": [],
   "source": [
    "X_port = encoded_port_grp.iloc[:, :-1]\n",
    "y_port = encoded_port_grp.iloc[:, -1]\n",
    "X_train_p, X_test_p, y_train_p, y_test_p = train_test_split(X_port, y_port, test_size = 0.2)"
   ]
  },
  {
   "cell_type": "code",
   "execution_count": 456,
   "metadata": {
    "id": "xIdRgqQAcFBI"
   },
   "outputs": [],
   "source": [
    "accuracies_math_grp = {}\n",
    "accuracies_port_grp = {}"
   ]
  },
  {
   "cell_type": "markdown",
   "metadata": {
    "id": "RwGpuDBNfJXu"
   },
   "source": [
    "## Decision Tree Classifier"
   ]
  },
  {
   "cell_type": "markdown",
   "metadata": {
    "id": "Bt0shnh4fJXu"
   },
   "source": [
    "### Math Data"
   ]
  },
  {
   "cell_type": "code",
   "execution_count": 457,
   "metadata": {
    "colab": {
     "base_uri": "https://localhost:8080/"
    },
    "id": "UqFRaXUgfJXv",
    "outputId": "6e15da36-93e8-444c-f922-2353a7a27198"
   },
   "outputs": [
    {
     "name": "stdout",
     "output_type": "stream",
     "text": [
      "The best parameters for Decision Tree Classification:\n"
     ]
    },
    {
     "data": {
      "text/plain": [
       "{'criterion': 'entropy', 'splitter': 'best'}"
      ]
     },
     "execution_count": 457,
     "metadata": {},
     "output_type": "execute_result"
    }
   ],
   "source": [
    "params = {'criterion':['gini', 'entropy'], 'splitter':['best', 'random']}\n",
    "\n",
    "grid = GridSearchCV(DecisionTreeClassifier(), params)\n",
    "grid.fit(X_train_m, y_train_m)\n",
    "print(\"The best parameters for Decision Tree Classification:\")\n",
    "grid.best_params_"
   ]
  },
  {
   "cell_type": "code",
   "execution_count": 458,
   "metadata": {
    "id": "VJo5AkP6fJXv"
   },
   "outputs": [],
   "source": [
    "clsf = DecisionTreeClassifier(criterion = grid.best_params_['criterion'], splitter = grid.best_params_['splitter'], max_depth=5)\n",
    "\n",
    "clsf = clsf.fit(X_train_m, y_train_m)"
   ]
  },
  {
   "cell_type": "code",
   "execution_count": 459,
   "metadata": {
    "colab": {
     "base_uri": "https://localhost:8080/"
    },
    "id": "KtVsgA62fJXv",
    "outputId": "f2f5b058-8644-40d4-c940-69790c80defe"
   },
   "outputs": [
    {
     "name": "stdout",
     "output_type": "stream",
     "text": [
      "Accuracy Score: 0.8354430379746836\n",
      "Cross Validation Score: 0.7497519841269842\n"
     ]
    }
   ],
   "source": [
    "y_pred = clsf.predict(X_test_m)\n",
    "print(\"Accuracy Score:\", metrics.accuracy_score(y_test_m, y_pred))\n",
    "accuracies_math_grp[\"Decision Tree Classifier\"] = metrics.accuracy_score(y_test_m, y_pred)\n",
    "print(\"Cross Validation Score:\", cross_val_score(clsf, X_train_m, y_train_m).mean())"
   ]
  },
  {
   "cell_type": "markdown",
   "metadata": {
    "id": "tTiAdmepfJXv"
   },
   "source": [
    "### Portuguese Data"
   ]
  },
  {
   "cell_type": "code",
   "execution_count": 460,
   "metadata": {
    "colab": {
     "base_uri": "https://localhost:8080/"
    },
    "id": "oc59tsAkfJXv",
    "outputId": "1a489c55-c0b8-47eb-e04a-d80287ed52f5"
   },
   "outputs": [
    {
     "name": "stdout",
     "output_type": "stream",
     "text": [
      "The best parameters for Decision Tree Classification:\n"
     ]
    },
    {
     "data": {
      "text/plain": [
       "{'criterion': 'entropy', 'splitter': 'random'}"
      ]
     },
     "execution_count": 460,
     "metadata": {},
     "output_type": "execute_result"
    }
   ],
   "source": [
    "params = {'criterion':['gini', 'entropy'], 'splitter':['best', 'random']}\n",
    "\n",
    "grid = GridSearchCV(DecisionTreeClassifier(), params)\n",
    "grid.fit(X_train_p, y_train_p)\n",
    "print(\"The best parameters for Decision Tree Classification:\")\n",
    "grid.best_params_"
   ]
  },
  {
   "cell_type": "code",
   "execution_count": 461,
   "metadata": {
    "id": "3c26r255fJXv"
   },
   "outputs": [],
   "source": [
    "clsf = DecisionTreeClassifier(criterion = grid.best_params_['criterion'], splitter = grid.best_params_['splitter'],max_depth=5)\n",
    "\n",
    "clsf = clsf.fit(X_train_p, y_train_p)"
   ]
  },
  {
   "cell_type": "code",
   "execution_count": 462,
   "metadata": {
    "colab": {
     "base_uri": "https://localhost:8080/"
    },
    "id": "rj4I_ryufJXw",
    "outputId": "9fa2eb14-690d-4424-a49b-e09849f6b422"
   },
   "outputs": [
    {
     "name": "stdout",
     "output_type": "stream",
     "text": [
      "Accuracy Score: 0.6923076923076923\n",
      "Cross Validation Score: 0.8015496639283046\n"
     ]
    }
   ],
   "source": [
    "y_pred = clsf.predict(X_test_p)\n",
    "print(\"Accuracy Score:\", metrics.accuracy_score(y_test_p, y_pred))\n",
    "accuracies_port_grp[\"Decision Tree Classifier\"] = metrics.accuracy_score(y_test_p, y_pred)\n",
    "print(\"Cross Validation Score:\", cross_val_score(clsf, X_train_p, y_train_p).mean())"
   ]
  },
  {
   "cell_type": "markdown",
   "metadata": {},
   "source": [
    "## KNN Classifier"
   ]
  },
  {
   "cell_type": "markdown",
   "metadata": {},
   "source": [
    "### Math Data"
   ]
  },
  {
   "cell_type": "code",
   "execution_count": 489,
   "metadata": {},
   "outputs": [
    {
     "name": "stdout",
     "output_type": "stream",
     "text": [
      "The best parameters for KNN Classification:\n"
     ]
    },
    {
     "data": {
      "text/plain": [
       "{'n_neighbors': 15, 'weights': 'distance'}"
      ]
     },
     "execution_count": 489,
     "metadata": {},
     "output_type": "execute_result"
    }
   ],
   "source": [
    "knn_params = {'n_neighbors': [i for i in range(3, 16, 2)], 'weights': ['uniform', 'distance']}\n",
    "grid = GridSearchCV(neighbors.KNeighborsClassifier(), knn_params)\n",
    "grid.fit(X_train_m, y_train_m)\n",
    "print(\"The best parameters for KNN Classification:\")\n",
    "grid.best_params_"
   ]
  },
  {
   "cell_type": "code",
   "execution_count": 490,
   "metadata": {},
   "outputs": [
    {
     "name": "stdout",
     "output_type": "stream",
     "text": [
      "Accuracy Score: 0.8987341772151899\n",
      "Cross Validation Score: 0.7817460317460317\n"
     ]
    }
   ],
   "source": [
    "knn_math = neighbors.KNeighborsClassifier(weights = grid.best_params_['weights'], n_neighbors = grid.best_params_['n_neighbors'])\n",
    "knn_math.fit(X_train_m, y_train_m)\n",
    "print(\"Accuracy Score:\", knn_math.score(X_test_m, y_test_m))\n",
    "print(\"Cross Validation Score:\", cross_val_score(knn_math, X_train_m, y_train_m).mean())\n",
    "accuracies_math_grp[\"KNN Classifier\"] = knn_math.score(X_test_m, y_test_m)"
   ]
  },
  {
   "cell_type": "markdown",
   "metadata": {},
   "source": [
    "### Portuguese Data"
   ]
  },
  {
   "cell_type": "code",
   "execution_count": 492,
   "metadata": {},
   "outputs": [
    {
     "name": "stdout",
     "output_type": "stream",
     "text": [
      "The best parameters for KNN Classification:\n"
     ]
    },
    {
     "data": {
      "text/plain": [
       "{'n_neighbors': 13, 'weights': 'uniform'}"
      ]
     },
     "execution_count": 492,
     "metadata": {},
     "output_type": "execute_result"
    }
   ],
   "source": [
    "knn_params = {'n_neighbors': [i for i in range(3, 16, 2)], 'weights': ['uniform', 'distance']}\n",
    "grid = GridSearchCV(neighbors.KNeighborsClassifier(), knn_params)\n",
    "grid.fit(X_train_p, y_train_p)\n",
    "print(\"The best parameters for KNN Classification:\")\n",
    "grid.best_params_"
   ]
  },
  {
   "cell_type": "code",
   "execution_count": 493,
   "metadata": {},
   "outputs": [
    {
     "name": "stdout",
     "output_type": "stream",
     "text": [
      "Accuracy Score: 0.7615384615384615\n",
      "Cross Validation Score: 0.8149925317401046\n"
     ]
    }
   ],
   "source": [
    "knn_port = neighbors.KNeighborsClassifier(weights = grid.best_params_['weights'], n_neighbors = grid.best_params_['n_neighbors'])\n",
    "knn_port.fit(X_train_p, y_train_p)\n",
    "print(\"Accuracy Score:\", knn_port.score(X_test_p, y_test_p))\n",
    "print(\"Cross Validation Score:\", cross_val_score(knn_port, X_train_p, y_train_p).mean())\n",
    "accuracies_port_grp[\"KNN Classifier\"] = knn_port.score(X_test_m, y_test_m)"
   ]
  },
  {
   "cell_type": "markdown",
   "metadata": {
    "id": "XNXewXkWg7U5"
   },
   "source": [
    "## Support Vector Classification"
   ]
  },
  {
   "cell_type": "markdown",
   "metadata": {
    "id": "c1GbC0TRg7U6"
   },
   "source": [
    "### Math Data"
   ]
  },
  {
   "cell_type": "code",
   "execution_count": 467,
   "metadata": {
    "colab": {
     "base_uri": "https://localhost:8080/"
    },
    "id": "_LXvS7F9g7U6",
    "outputId": "03d379cf-934c-4b90-8222-e5e96739be92"
   },
   "outputs": [
    {
     "name": "stdout",
     "output_type": "stream",
     "text": [
      "Accuracy for each kernel:\n",
      "\n",
      "Kernel: linear\n",
      "Accuracy: 0.8354430379746836\n",
      "\n",
      "Kernel: rbf\n",
      "Accuracy: 0.8607594936708861\n",
      "\n",
      "Kernel: poly\n",
      "Accuracy: 0.8860759493670886\n",
      "\n",
      "Kernel: sigmoid\n",
      "Accuracy: 0.569620253164557\n",
      "\n"
     ]
    }
   ],
   "source": [
    "from sklearn.svm import SVC, SVR\n",
    "\n",
    "kernels = ['linear', 'rbf', 'poly', 'sigmoid']\n",
    "print(\"Accuracy for each kernel:\\n\")\n",
    "for kern in kernels:\n",
    "    model = SVC(kernel = kern, C = 1)\n",
    "    model.fit(X_train_m, y_train_m)\n",
    "    print(f\"Kernel: {kern}\")\n",
    "    print(f\"Accuracy: {model.score(X_test_m, y_test_m)}\\n\")"
   ]
  },
  {
   "cell_type": "code",
   "execution_count": 468,
   "metadata": {
    "colab": {
     "base_uri": "https://localhost:8080/"
    },
    "id": "Um9zqMHDg7U6",
    "outputId": "5660c8f4-be3b-46f5-93fc-c9c30aa72f92"
   },
   "outputs": [
    {
     "name": "stdout",
     "output_type": "stream",
     "text": [
      "Polynomial Kernel\n",
      "Degree: 1\n",
      "Accuracy (Test Data): 0.8987341772151899\n",
      "Accuracy (Train Data): 0.8829113924050633\n",
      "\n",
      "Degree: 2\n",
      "Accuracy (Test Data): 0.8987341772151899\n",
      "Accuracy (Train Data): 0.9525316455696202\n",
      "\n",
      "Degree: 3\n",
      "Accuracy (Test Data): 0.8481012658227848\n",
      "Accuracy (Train Data): 0.9873417721518988\n",
      "\n",
      "Degree: 4\n",
      "Accuracy (Test Data): 0.8354430379746836\n",
      "Accuracy (Train Data): 0.9968354430379747\n",
      "\n",
      "Degree: 5\n",
      "Accuracy (Test Data): 0.8227848101265823\n",
      "Accuracy (Train Data): 0.9968354430379747\n",
      "\n"
     ]
    }
   ],
   "source": [
    "print(\"Polynomial Kernel\")\n",
    "for i in range(1, 6):\n",
    "    model = SVC(kernel = 'poly', degree = i, C = 100)\n",
    "    model.fit(X_train_m, y_train_m)\n",
    "    print(f'Degree: {i}')\n",
    "    print(f'Accuracy (Test Data): {model.score(X_test_m, y_test_m)}')\n",
    "    print(f'Accuracy (Train Data): {model.score(X_train_m, y_train_m)}\\n')"
   ]
  },
  {
   "cell_type": "code",
   "execution_count": 469,
   "metadata": {
    "colab": {
     "base_uri": "https://localhost:8080/"
    },
    "id": "GxffpzWWg7U6",
    "outputId": "06224a3d-c213-4736-ef3a-532385647f4b"
   },
   "outputs": [
    {
     "name": "stdout",
     "output_type": "stream",
     "text": [
      "Result of grid search:\n",
      "{'C': 1, 'degree': 3, 'kernel': 'poly'}\n",
      "Accuracy of selected kernel: 0.8860759493670886\n",
      "\n",
      "The kernel that works best for the SVM classification of this dataset is: poly\n"
     ]
    }
   ],
   "source": [
    "param_grid = {'C':[0.1, 1, 100], 'kernel':['rbf', 'poly', 'sigmoid', 'linear'], 'degree':[1, 2, 3, 4, 5, 6]}\n",
    "\n",
    "grid = GridSearchCV(SVC(), param_grid)\n",
    "grid.fit(X_train_m, y_train_m)\n",
    "\n",
    "print(\"Result of grid search:\")\n",
    "print(grid.best_params_)\n",
    "print(f\"Accuracy of selected kernel: {grid.score(X_test_m, y_test_m)}\")\n",
    "print(f\"\\nThe kernel that works best for the SVM classification of this dataset is: {grid.best_params_['kernel']}\")"
   ]
  },
  {
   "cell_type": "code",
   "execution_count": 470,
   "metadata": {
    "colab": {
     "base_uri": "https://localhost:8080/"
    },
    "id": "Acfs6KE5g7U7",
    "outputId": "679a90b7-3122-444f-e7b0-9d116b556afe"
   },
   "outputs": [
    {
     "name": "stdout",
     "output_type": "stream",
     "text": [
      "Accuracy (Test Data): 0.8860759493670886\n",
      "Accuracy (Train Data): 0.8227848101265823\n",
      "Cross Validation Score: 0.7880456349206348\n"
     ]
    }
   ],
   "source": [
    "model = SVC(kernel = grid.best_params_['kernel'], degree = grid.best_params_['degree'], C = grid.best_params_['C'])\n",
    "model.fit(X_train_m, y_train_m)\n",
    "print(f'Accuracy (Test Data): {model.score(X_test_m, y_test_m)}')\n",
    "print(f'Accuracy (Train Data): {model.score(X_train_m, y_train_m)}')\n",
    "accuracies_math_grp[\"Support Vector Classification\"] = model.score(X_test_m, y_test_m)\n",
    "print(\"Cross Validation Score:\", cross_val_score(model, X_train_m, y_train_m).mean())"
   ]
  },
  {
   "cell_type": "markdown",
   "metadata": {
    "id": "l4CdnOmRg7U7"
   },
   "source": [
    "### Portuguese Data"
   ]
  },
  {
   "cell_type": "code",
   "execution_count": 471,
   "metadata": {
    "colab": {
     "base_uri": "https://localhost:8080/"
    },
    "id": "feKyfgJSg7U7",
    "outputId": "cfa8347c-fcc9-48a3-feff-1054e07e57aa"
   },
   "outputs": [
    {
     "name": "stdout",
     "output_type": "stream",
     "text": [
      "Accuracy for each kernel:\n",
      "\n",
      "Kernel: linear\n",
      "Accuracy: 0.7769230769230769\n",
      "\n",
      "Kernel: rbf\n",
      "Accuracy: 0.7461538461538462\n",
      "\n",
      "Kernel: poly\n",
      "Accuracy: 0.7384615384615385\n",
      "\n",
      "Kernel: sigmoid\n",
      "Accuracy: 0.5538461538461539\n",
      "\n"
     ]
    }
   ],
   "source": [
    "kernels = ['linear', 'rbf', 'poly', 'sigmoid']\n",
    "print(\"Accuracy for each kernel:\\n\")\n",
    "for kern in kernels:\n",
    "    model = SVC(kernel = kern, C = 1)\n",
    "    model.fit(X_train_p, y_train_p)\n",
    "    print(f\"Kernel: {kern}\")\n",
    "    print(f\"Accuracy: {model.score(X_test_p, y_test_p)}\\n\")"
   ]
  },
  {
   "cell_type": "code",
   "execution_count": 472,
   "metadata": {
    "colab": {
     "base_uri": "https://localhost:8080/"
    },
    "id": "4lXzEHgNg7U7",
    "outputId": "94e4caf9-0dd4-4a01-aedf-ed02d03ea752"
   },
   "outputs": [
    {
     "name": "stdout",
     "output_type": "stream",
     "text": [
      "Polynomial Kernel\n",
      "Degree: 1\n",
      "Accuracy (Test Data): 0.7846153846153846\n",
      "Accuracy (Train Data): 0.9113680154142582\n",
      "\n",
      "Degree: 2\n",
      "Accuracy (Test Data): 0.7923076923076923\n",
      "Accuracy (Train Data): 0.9325626204238922\n",
      "\n",
      "Degree: 3\n",
      "Accuracy (Test Data): 0.7615384615384615\n",
      "Accuracy (Train Data): 0.9614643545279383\n",
      "\n",
      "Degree: 4\n",
      "Accuracy (Test Data): 0.7384615384615385\n",
      "Accuracy (Train Data): 0.9845857418111753\n",
      "\n",
      "Degree: 5\n",
      "Accuracy (Test Data): 0.7461538461538462\n",
      "Accuracy (Train Data): 0.9961464354527938\n",
      "\n"
     ]
    }
   ],
   "source": [
    "print(\"Polynomial Kernel\")\n",
    "for i in range(1, 6):\n",
    "    model = SVC(kernel = 'poly', degree = i, C = 100)\n",
    "    model.fit(X_train_p, y_train_p)\n",
    "    print(f'Degree: {i}')\n",
    "    print(f'Accuracy (Test Data): {model.score(X_test_p, y_test_p)}')\n",
    "    print(f'Accuracy (Train Data): {model.score(X_train_p, y_train_p)}\\n')"
   ]
  },
  {
   "cell_type": "code",
   "execution_count": 473,
   "metadata": {
    "colab": {
     "base_uri": "https://localhost:8080/"
    },
    "id": "IUDecOZIg7U7",
    "outputId": "eb873e2e-3c11-47d2-f575-521f3bc5bf27"
   },
   "outputs": [
    {
     "name": "stdout",
     "output_type": "stream",
     "text": [
      "Result of grid search:\n",
      "{'C': 1, 'degree': 2, 'kernel': 'poly'}\n",
      "Accuracy of selected kernel: 0.7461538461538462\n",
      "\n",
      "The kernel that works best for the SVM classification of this dataset is: poly\n"
     ]
    }
   ],
   "source": [
    "param_grid = {'C':[0.1, 1, 100], 'kernel':['rbf', 'poly', 'sigmoid', 'linear'], 'degree':[1, 2, 3, 4, 5, 6]}\n",
    "\n",
    "grid = GridSearchCV(SVC(), param_grid)\n",
    "grid.fit(X_train_p, y_train_p)\n",
    "\n",
    "print(\"Result of grid search:\")\n",
    "print(grid.best_params_)\n",
    "print(f\"Accuracy of selected kernel: {grid.score(X_test_p, y_test_p)}\")\n",
    "print(f\"\\nThe kernel that works best for the SVM classification of this dataset is: {grid.best_params_['kernel']}\")"
   ]
  },
  {
   "cell_type": "code",
   "execution_count": 474,
   "metadata": {
    "colab": {
     "base_uri": "https://localhost:8080/"
    },
    "id": "VOgpJoEQg7U7",
    "outputId": "580512bd-5c5c-4754-ab37-79aa6158ab06"
   },
   "outputs": [
    {
     "name": "stdout",
     "output_type": "stream",
     "text": [
      "Accuracy (Test Data): 0.7461538461538462\n",
      "Accuracy (Train Data): 0.8901734104046243\n",
      "Cross Validation Score: 0.8593726661687825\n"
     ]
    }
   ],
   "source": [
    "model = SVC(kernel = grid.best_params_['kernel'], degree = grid.best_params_['degree'], C = grid.best_params_['C'])\n",
    "model.fit(X_train_p, y_train_p)\n",
    "print(f'Accuracy (Test Data): {model.score(X_test_p, y_test_p)}')\n",
    "print(f'Accuracy (Train Data): {model.score(X_train_p, y_train_p)}')\n",
    "accuracies_port_grp[\"Support Vector Classification\"] = model.score(X_test_p, y_test_p)\n",
    "print(\"Cross Validation Score:\", cross_val_score(model, X_train_p, y_train_p).mean())"
   ]
  },
  {
   "cell_type": "markdown",
   "metadata": {
    "id": "aNkrvlR0hm4F"
   },
   "source": [
    "## Naive-Bayes\n"
   ]
  },
  {
   "cell_type": "code",
   "execution_count": 475,
   "metadata": {
    "id": "jvc59d-Chm4G"
   },
   "outputs": [],
   "source": [
    "from sklearn.naive_bayes import MultinomialNB, GaussianNB, BernoulliNB\n",
    "from sklearn.feature_extraction.text import CountVectorizer"
   ]
  },
  {
   "cell_type": "code",
   "execution_count": 476,
   "metadata": {
    "colab": {
     "base_uri": "https://localhost:8080/"
    },
    "id": "1S7VjYi4hm4G",
    "outputId": "bd248194-2c80-417c-9d9d-000e9f529112"
   },
   "outputs": [
    {
     "name": "stdout",
     "output_type": "stream",
     "text": [
      "\n",
      "Accuracy Score: 0.620253164556962\n",
      "\n",
      "Cross Validation Score: 0.6046626984126984\n"
     ]
    }
   ],
   "source": [
    "nb_ml = MultinomialNB()\n",
    "nb_ml.fit(X_train_m, y_train_m)\n",
    "y_pred_class_ml = nb_ml.predict(X_test_m)\n",
    "print(f\"\\nAccuracy Score: {metrics.accuracy_score(y_test_m,y_pred_class_ml)}\\n\")\n",
    "accuracies_math_grp[\"MultinomialNB\"] = metrics.accuracy_score(y_test_m,y_pred_class_ml)\n",
    "print(\"Cross Validation Score:\", cross_val_score(nb_ml, X_train_m, y_train_m).mean())"
   ]
  },
  {
   "cell_type": "code",
   "execution_count": 477,
   "metadata": {
    "colab": {
     "base_uri": "https://localhost:8080/"
    },
    "id": "lYCb1w9ohm4G",
    "outputId": "ae4d9da3-4fd1-46d8-f792-4dd9090d0135"
   },
   "outputs": [
    {
     "name": "stdout",
     "output_type": "stream",
     "text": [
      "\n",
      "Accuracy Score: 0.4936708860759494\n",
      "\n",
      "Cross Validation Score: 0.5256448412698412\n"
     ]
    }
   ],
   "source": [
    "nb_br = BernoulliNB()\n",
    "nb_br.fit(X_train_m,y_train_m)\n",
    "y_pred_class_br = nb_br.predict(X_test_m)\n",
    "print(f\"\\nAccuracy Score: {metrics.accuracy_score(y_test_m,y_pred_class_br)}\\n\")\n",
    "accuracies_math_grp[\"BernoulliNB\"] = metrics.accuracy_score(y_test_m,y_pred_class_br)\n",
    "print(\"Cross Validation Score:\", cross_val_score(nb_br, X_train_m, y_train_m).mean())"
   ]
  },
  {
   "cell_type": "code",
   "execution_count": 478,
   "metadata": {
    "colab": {
     "base_uri": "https://localhost:8080/"
    },
    "id": "Gz0kY7a9hm4G",
    "outputId": "44da4e1d-0c43-4c52-eeea-19b1c3feea87"
   },
   "outputs": [
    {
     "name": "stdout",
     "output_type": "stream",
     "text": [
      "\n",
      "Accuracy Score: 0.6455696202531646\n",
      "\n",
      "Cross Validation Score: 0.6012400793650794\n"
     ]
    }
   ],
   "source": [
    "nb_gs = GaussianNB()\n",
    "nb_gs.fit(X_train_m,y_train_m)\n",
    "y_pred_class_gs = nb_gs.predict(X_test_m)\n",
    "print(f\"\\nAccuracy Score: {metrics.accuracy_score(y_test_m,y_pred_class_gs)}\\n\")\n",
    "accuracies_math_grp[\"GaussianNB\"] = metrics.accuracy_score(y_test_m,y_pred_class_gs)\n",
    "print(\"Cross Validation Score:\", cross_val_score(nb_gs, X_train_m, y_train_m).mean())"
   ]
  },
  {
   "cell_type": "markdown",
   "metadata": {
    "id": "I0YCagbW0Ykj"
   },
   "source": [
    "### Portuguese Data"
   ]
  },
  {
   "cell_type": "code",
   "execution_count": 479,
   "metadata": {
    "colab": {
     "base_uri": "https://localhost:8080/"
    },
    "id": "ytSm2uz_hm4H",
    "outputId": "7abf3cfc-cb04-45f8-bd87-1af95f9c4587"
   },
   "outputs": [
    {
     "name": "stdout",
     "output_type": "stream",
     "text": [
      "\n",
      "Accuracy Score: 0.6692307692307692\n",
      "\n",
      "Cross Validation Score: 0.7071508588498879\n"
     ]
    }
   ],
   "source": [
    "nb_ml = MultinomialNB()\n",
    "nb_ml.fit(X_train_p, y_train_p)\n",
    "y_pred_class_ml = nb_ml.predict(X_test_p)\n",
    "print(f\"\\nAccuracy Score: {metrics.accuracy_score(y_test_p,y_pred_class_ml)}\\n\")\n",
    "accuracies_port_grp[\"MultinomialNB\"] = metrics.accuracy_score(y_test_p,y_pred_class_ml)\n",
    "print(\"Cross Validation Score:\", cross_val_score(nb_ml, X_train_p, y_train_p).mean())"
   ]
  },
  {
   "cell_type": "code",
   "execution_count": 480,
   "metadata": {
    "colab": {
     "base_uri": "https://localhost:8080/"
    },
    "id": "M8R0bQkhhm4H",
    "outputId": "c659afb4-0f49-40d2-e2b8-1e339d962d20"
   },
   "outputs": [
    {
     "name": "stdout",
     "output_type": "stream",
     "text": [
      "\n",
      "Accuracy Score: 0.6076923076923076\n",
      "\n",
      "Cross Validation Score: 0.6704817027632561\n"
     ]
    }
   ],
   "source": [
    "nb_br = BernoulliNB()\n",
    "nb_br.fit(X_train_p,y_train_p)\n",
    "y_pred_class_br = nb_br.predict(X_test_p)\n",
    "print(f\"\\nAccuracy Score: {metrics.accuracy_score(y_test_p,y_pred_class_br)}\\n\")\n",
    "accuracies_port_grp[\"BernoulliNB\"] = metrics.accuracy_score(y_test_p,y_pred_class_br)\n",
    "print(\"Cross Validation Score:\", cross_val_score(nb_br, X_train_p, y_train_p).mean())"
   ]
  },
  {
   "cell_type": "code",
   "execution_count": 481,
   "metadata": {
    "colab": {
     "base_uri": "https://localhost:8080/"
    },
    "id": "c_eI0t81hm4H",
    "outputId": "688c21f1-374a-4395-bc7c-5ea813e5a08b",
    "scrolled": true
   },
   "outputs": [
    {
     "name": "stdout",
     "output_type": "stream",
     "text": [
      "\n",
      "Accuracy Score: 0.45384615384615384\n",
      "\n",
      "Cross Validation Score: 0.6704817027632561\n"
     ]
    }
   ],
   "source": [
    "nb_gs = GaussianNB()\n",
    "nb_gs.fit(X_train_p,y_train_p)\n",
    "y_pred_class_gs = nb_gs.predict(X_test_p)\n",
    "print(f\"\\nAccuracy Score: {metrics.accuracy_score(y_test_p,y_pred_class_gs)}\\n\")\n",
    "accuracies_port_grp[\"GaussianNB\"] = metrics.accuracy_score(y_test_p,y_pred_class_gs)\n",
    "print(\"Cross Validation Score:\", cross_val_score(nb_br, X_train_p, y_train_p).mean())"
   ]
  },
  {
   "cell_type": "markdown",
   "metadata": {
    "id": "zcTfcGmAj8gT"
   },
   "source": [
    "## SGD classifier"
   ]
  },
  {
   "cell_type": "markdown",
   "metadata": {
    "id": "LJhDnx0vlJY3"
   },
   "source": [
    "### Math data"
   ]
  },
  {
   "cell_type": "code",
   "execution_count": 482,
   "metadata": {
    "colab": {
     "base_uri": "https://localhost:8080/"
    },
    "id": "alLunAV9kKPy",
    "outputId": "ee5625c8-6d85-4361-a577-0654fe20ddf0"
   },
   "outputs": [
    {
     "name": "stdout",
     "output_type": "stream",
     "text": [
      "\n",
      "Accuracy Score: 0.6455696202531646\n",
      "\n",
      "Stochastic Gradient Descent Model Score : 0.6613924050632911 , Cross Validation Score : 0.6455696202531646\n",
      "Cross Validation Score: 0.636061507936508\n"
     ]
    }
   ],
   "source": [
    "from sklearn.linear_model import SGDClassifier\n",
    "sgd = SGDClassifier()\n",
    "sf = sgd.fit(X_train_m, y_train_m)\n",
    "y_pred_class_sgd = sf.predict(X_test_m)\n",
    "print(f\"\\nAccuracy Score: {metrics.accuracy_score(y_test_m,y_pred_class_sgd)}\\n\")\n",
    "print(\"Stochastic Gradient Descent Model Score\" , \":\" , sf.score(X_train_m, y_train_m) , \",\" ,\n",
    "      \"Cross Validation Score\" ,\":\" , sf.score(X_test_m, y_test_m))\n",
    "accuracies_math_grp[\"SGD Classifier\"] = metrics.accuracy_score(y_test_m,y_pred_class_sgd)\n",
    "print(\"Cross Validation Score:\", cross_val_score(sgd, X_train_m, y_train_m).mean())"
   ]
  },
  {
   "cell_type": "markdown",
   "metadata": {
    "id": "Zke_bPfrlWq7"
   },
   "source": [
    "### Portuguese Data"
   ]
  },
  {
   "cell_type": "code",
   "execution_count": 483,
   "metadata": {
    "colab": {
     "base_uri": "https://localhost:8080/"
    },
    "id": "BIuQsp30k_ma",
    "outputId": "58cf93e2-0aa8-40db-8d17-4be0a125651f",
    "scrolled": true
   },
   "outputs": [
    {
     "name": "stdout",
     "output_type": "stream",
     "text": [
      "\n",
      "Accuracy Score: 0.676923076923077\n",
      "\n",
      "Stochastic Gradient Descent Model Score : 0.766859344894027 , Cross Validation Score : 0.676923076923077\n",
      "Cross Validation Score: 0.7089619118745333\n"
     ]
    }
   ],
   "source": [
    "from sklearn.linear_model import SGDClassifier\n",
    "sgd = SGDClassifier()\n",
    "sf = sgd.fit(X_train_p, y_train_p)\n",
    "y_pred_class_sgd = sf.predict(X_test_p)\n",
    "print(f\"\\nAccuracy Score: {metrics.accuracy_score(y_test_p,y_pred_class_sgd)}\\n\")\n",
    "print(\"Stochastic Gradient Descent Model Score\" , \":\" , sf.score(X_train_p, y_train_p) , \",\" ,\n",
    "      \"Cross Validation Score\" ,\":\" , sf.score(X_test_p, y_test_p))\n",
    "accuracies_port_grp[\"SGD Classifier\"] = metrics.accuracy_score(y_test_p,y_pred_class_sgd)\n",
    "print(\"Cross Validation Score:\", cross_val_score(sgd, X_train_p, y_train_p).mean())"
   ]
  },
  {
   "cell_type": "markdown",
   "metadata": {},
   "source": [
    "# Analysis"
   ]
  },
  {
   "cell_type": "markdown",
   "metadata": {},
   "source": [
    "## Comparison between different models"
   ]
  },
  {
   "cell_type": "code",
   "execution_count": 494,
   "metadata": {},
   "outputs": [],
   "source": [
    "accuracies_math_grp_df = pd.DataFrame({\"Model Used\": list(accuracies_math_grp.keys()), \"Accuracy\": [i*100 for i in list(accuracies_math_grp.values())]})\n",
    "accuracies_port_grp_df = pd.DataFrame({\"Model Used\": list(accuracies_port_grp.keys()), \"Accuracy\": [i*100 for i in list(accuracies_port_grp.values())]})"
   ]
  },
  {
   "cell_type": "code",
   "execution_count": 495,
   "metadata": {},
   "outputs": [],
   "source": [
    "accuracies_math_grp_df.sort_values('Accuracy', inplace=True)\n",
    "accuracies_math_grp_df.reset_index(inplace=True)\n",
    "accuracies_port_grp_df.sort_values('Accuracy', inplace=True)\n",
    "accuracies_port_grp_df.reset_index(inplace=True)"
   ]
  },
  {
   "cell_type": "code",
   "execution_count": 496,
   "metadata": {},
   "outputs": [
    {
     "data": {
      "text/plain": [
       "Text(0.5, 1.0, 'Accuracy of Different Models on Math Dataset')"
      ]
     },
     "execution_count": 496,
     "metadata": {},
     "output_type": "execute_result"
    },
    {
     "data": {
      "image/png": "[encoded data removed]",
      "text/plain": [
       "<Figure size 1440x432 with 1 Axes>"
      ]
     },
     "metadata": {
      "needs_background": "light"
     },
     "output_type": "display_data"
    }
   ],
   "source": [
    "plt.figure(figsize=(20, 6))\n",
    "splot = sns.barplot(x = \"Model Used\",y = \"Accuracy\", data = accuracies_math_grp_df)\n",
    "for p in splot.patches:\n",
    "    splot.annotate(format(p.get_height(), '.1f'), \n",
    "                   (p.get_x() + p.get_width() / 2., p.get_height()), \n",
    "                   ha = 'center', va = 'center', \n",
    "                   xytext = (0, 9), \n",
    "                   textcoords = 'offset points')\n",
    "plt.xticks(accuracies_math_grp_df.index, rotation=60, horizontalalignment='right', fontsize=12)\n",
    "plt.xlabel(\"Model Used\", size=18)\n",
    "plt.ylabel(\"Accuracy\", size=18)\n",
    "plt.title(\"Accuracy of Different Models on Math Dataset\", fontdict={'size':22})"
   ]
  },
  {
   "cell_type": "code",
   "execution_count": 497,
   "metadata": {},
   "outputs": [
    {
     "data": {
      "text/plain": [
       "Text(0.5, 1.0, 'Accuracy of Different Models on Portuguese Dataset')"
      ]
     },
     "execution_count": 497,
     "metadata": {},
     "output_type": "execute_result"
    },
    {
     "data": {
      "image/png": "[encoded data removed]",
      "text/plain": [
       "<Figure size 1440x432 with 1 Axes>"
      ]
     },
     "metadata": {
      "needs_background": "light"
     },
     "output_type": "display_data"
    }
   ],
   "source": [
    "plt.figure(figsize=(20, 6))\n",
    "splot = sns.barplot(x = \"Model Used\",y = \"Accuracy\", data = accuracies_port_grp_df)\n",
    "for p in splot.patches:\n",
    "    splot.annotate(format(p.get_height(), '.1f'), \n",
    "                   (p.get_x() + p.get_width() / 2., p.get_height()), \n",
    "                   ha = 'center', va = 'center', \n",
    "                   xytext = (0, 9), \n",
    "                   textcoords = 'offset points')\n",
    "plt.xticks(accuracies_port_grp_df.index, rotation=60, horizontalalignment='right', fontsize=12)\n",
    "plt.xlabel(\"Model Used\", size=18)\n",
    "plt.ylabel(\"Accuracy\", size=18)\n",
    "plt.title(\"Accuracy of Different Models on Portuguese Dataset\", fontdict={'size':22})"
   ]
  },
  {
   "cell_type": "markdown",
   "metadata": {},
   "source": [
    "## Inferences"
   ]
  },
  {
   "cell_type": "markdown",
   "metadata": {},
   "source": [
    "### Looking at the above graphs following inferences can be made:\n",
    "    - Grouping the target variable decreases the prediction accuracy of the models.\n",
    "    - KNN Classifier is the best model for Math dataset on grouping.\n",
    "    - KNN Classifier is the best model for Portuguese dataset on grouping."
   ]
  },
  {
   "cell_type": "markdown",
   "metadata": {},
   "source": [
    "# Conclusion"
   ]
  },
  {
   "cell_type": "markdown",
   "metadata": {},
   "source": [
    "## The prediction of a student's grade can be best done using regression techniques.\n",
    "## A student's grade majorly depends on the following factors:\n",
    "    - Availibility of internet at home(Positive effect)\n",
    "    - Involvement in romantic relationships(Negative effect)\n",
    "    - Wish to pursue higher education(Positive effect)\n",
    "    - Their second period grades(Positive effect)\n",
    "    - Their previous number of failures(Negative effect)\n",
    "    - Whether they have paid for extra courses(Negative effect)\n",
    "    \n",
    "## So, a student with internet connection, positive family relations, good previous scores, and with an aim to pursue higher education is likely to perform better."
   ]
  },
  {
   "cell_type": "code",
   "execution_count": null,
   "metadata": {},
   "outputs": [],
   "source": []
  }
 ],
 "metadata": {
  "kernelspec": {
   "display_name": "Python 3",
   "language": "python",
   "name": "python3"
  },
  "language_info": {
   "codemirror_mode": {
    "name": "ipython",
    "version": 3
   },
   "file_extension": ".py",
   "mimetype": "text/x-python",
   "name": "python",
   "nbconvert_exporter": "python",
   "pygments_lexer": "ipython3",
   "version": "3.7.4"
  }
 },
 "nbformat": 4,
 "nbformat_minor": 2
}
